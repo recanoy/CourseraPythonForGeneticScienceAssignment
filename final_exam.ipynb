{
  "nbformat": 4,
  "nbformat_minor": 0,
  "metadata": {
    "colab": {
      "provenance": [],
      "collapsed_sections": [],
      "authorship_tag": "ABX9TyPaTP1VR8DTwo+kBe2CNdjB",
      "include_colab_link": true
    },
    "kernelspec": {
      "name": "python3",
      "display_name": "Python 3"
    },
    "language_info": {
      "name": "python"
    },
    "accelerator": "GPU"
  },
  "cells": [
    {
      "cell_type": "markdown",
      "metadata": {
        "id": "view-in-github",
        "colab_type": "text"
      },
      "source": [
        "<a href=\"https://colab.research.google.com/github/recanoy/Coursera_PythonForGenomicDataScience_FinalExam/blob/main/final_exam.ipynb\" target=\"_parent\"><img src=\"https://colab.research.google.com/assets/colab-badge.svg\" alt=\"Open In Colab\"/></a>"
      ]
    },
    {
      "cell_type": "markdown",
      "source": [
        "# Author: Raymart Jay E. Canoy\n",
        "# Date: 11 October 2022\n",
        "___"
      ],
      "metadata": {
        "id": "vWCAJrzt0fnw"
      }
    },
    {
      "cell_type": "markdown",
      "source": [
        "## (01) Installing Biopython"
      ],
      "metadata": {
        "id": "xQFyZz4V0cu-"
      }
    },
    {
      "cell_type": "code",
      "source": [
        "pip install biopython"
      ],
      "metadata": {
        "colab": {
          "base_uri": "https://localhost:8080/"
        },
        "id": "qG2uS-M0LEGj",
        "outputId": "2013d78b-ab7a-468b-fb7b-f6266ba2d7c1"
      },
      "execution_count": 1,
      "outputs": [
        {
          "output_type": "stream",
          "name": "stdout",
          "text": [
            "Looking in indexes: https://pypi.org/simple, https://us-python.pkg.dev/colab-wheels/public/simple/\n",
            "Collecting biopython\n",
            "  Downloading biopython-1.79-cp37-cp37m-manylinux_2_17_x86_64.manylinux2014_x86_64.whl (2.6 MB)\n",
            "\u001b[K     |████████████████████████████████| 2.6 MB 5.0 MB/s \n",
            "\u001b[?25hRequirement already satisfied: numpy in /usr/local/lib/python3.7/dist-packages (from biopython) (1.21.6)\n",
            "Installing collected packages: biopython\n",
            "Successfully installed biopython-1.79\n"
          ]
        }
      ]
    },
    {
      "cell_type": "markdown",
      "source": [
        "## (02) Common Packages"
      ],
      "metadata": {
        "id": "GwMANKLeLJlX"
      }
    },
    {
      "cell_type": "code",
      "source": [
        "import os\n",
        "import sys\n",
        "import subprocess\n",
        "import requests\n",
        "import Bio\n",
        "from Bio import *\n",
        "from Bio import SeqIO\n",
        "from Bio.Blast import NCBIWWW\n",
        "from Bio.Blast import NCBIXML\n",
        "import pickle"
      ],
      "metadata": {
        "id": "ncQA1UjYLQfx"
      },
      "execution_count": 2,
      "outputs": []
    },
    {
      "cell_type": "code",
      "source": [
        "from google.colab import drive\n",
        "drive.mount('/content/drive')\n",
        "PROJECT_ROOT_DIR = '/content/drive/MyDrive/Personal Files/(06) Genomic Data Science'"
      ],
      "metadata": {
        "colab": {
          "base_uri": "https://localhost:8080/"
        },
        "id": "qce1AAXh7Ouw",
        "outputId": "c0e199b0-c7c6-4ed6-926e-81e051e58674"
      },
      "execution_count": 3,
      "outputs": [
        {
          "output_type": "stream",
          "name": "stdout",
          "text": [
            "Mounted at /content/drive\n"
          ]
        }
      ]
    },
    {
      "cell_type": "markdown",
      "source": [
        "## (03) Common Functions"
      ],
      "metadata": {
        "id": "VOTETMJHLYkt"
      }
    },
    {
      "cell_type": "code",
      "source": [
        "# Installing packages that are not yet installed\n",
        "def install(package):\n",
        "  # This function installs packages that are not yet installed\n",
        "  subprocess.call([sys.executable, \"-m\", \"pip\", \"install\", package])\n",
        "\n",
        "# Extracting the file\n",
        "def get_file(url, filename):\n",
        "  # This function gets the file from the indicated URL\n",
        "  # and saves it in the indicated filename\n",
        "  req = requests.get(url)\n",
        "  if req.status_code != 200: # the request is successful\n",
        "    raise Exception(\"Could not get file\")\n",
        "  \n",
        "  with open(filename, 'w') as fn:\n",
        "    fn.write(req.text)\n",
        "\n",
        "# Processing the file\n",
        "def process_file(filename, filetype, info=\"all\"):\n",
        "  # This function processes the file contained in the indicated filename\n",
        "  #\n",
        "  # filename: Filename of the file containing the sequence\n",
        "  # filetype: \"fasta\" or \"genbank\"\n",
        "  # info: [\"identifiers\", \"sequence\", \"length\", \"complete\"]\n",
        "  if info == \"identifiers\":\n",
        "    return [seq_record.id for seq_record in SeqIO.parse(filename, filetype)]\n",
        "  elif info == \"sequence\":\n",
        "    return [seq_record.seq for seq_record in SeqIO.parse(filename, filetype)]\n",
        "  elif info == \"length\":\n",
        "    return [len(seq_record) for seq_record in SeqIO.parse(filename, filetype)]\n",
        "  else:\n",
        "    identifiers = [seq_record.id for seq_record in SeqIO.parse(filename, filetype)]\n",
        "    sequence = [repr(seq_record.seq) for seq_record in SeqIO.parse(filename, filetype)]\n",
        "    lengths = [len(seq_record) for seq_record in SeqIO.parse(filename, filetype)]\n",
        "\n",
        "    complete_data = {\n",
        "        \"identifiers\" : identifiers,\n",
        "        \"sequence\" : sequence,\n",
        "        \"lengths\" : lengths\n",
        "    }\n",
        "\n",
        "    return complete_data\n",
        "\n",
        "# Determining the species\n",
        "def species_finder(seq, E_VALUE_THRESH=0.01):\n",
        "  # This functions finds the species of a inputted sequence\n",
        "  #\n",
        "  # Arguments:\n",
        "  # seq: sequence\n",
        "  # E_VALUE_THRESH: 0.01\n",
        "\n",
        "  # Assessing whether biopython is installed\n",
        "  # If not, it installs biopython and imports BLAST\n",
        "  try:\n",
        "    import Bio\n",
        "    from Bio.Blast import NCBIWWW\n",
        "    from Bio.Blast import NCBIXML\n",
        "    print('Biopython is installed.')\n",
        "  except ModuleNotFoundError:\n",
        "    print('Biopython is not installed')\n",
        "    install(\"biopython\")\n",
        "\n",
        "    # importing the biopython module\n",
        "    import Bio\n",
        "    from Bio.Blast import NCBIWWW\n",
        "    from Bio.Blast import NCBIXML\n",
        "\n",
        "  result_handle = NCBIWWW.qblast(\"blastn\", \"nt\", seq)\n",
        "  blast_record = NCBIXML.read(result_handle)\n",
        "\n",
        "  for alignment in blast_record.alignments:\n",
        "    for hsp in alignment.hsps:\n",
        "      if hsp.expect < E_VALUE_THRESH:\n",
        "        print(\"*****Alignment*****\")\n",
        "        print(\"sequence:\", alignment.title)\n",
        "        print(\"length:\", alignment.length)\n",
        "        print(\"e value:\", hsp.expect)\n",
        "        print(hsp.query)\n",
        "        print(hsp.match)\n",
        "        print(hsp.sbjct)\n",
        "        print(\"\\n\")\n"
      ],
      "metadata": {
        "id": "xVkI_80JLXQD"
      },
      "execution_count": 4,
      "outputs": []
    },
    {
      "cell_type": "markdown",
      "source": [
        "## (04) Getting the file"
      ],
      "metadata": {
        "id": "xV0Cc4iVL_1w"
      }
    },
    {
      "cell_type": "code",
      "source": [
        "url = \"https://d396qusza40orc.cloudfront.net/genpython/data_sets/dna.example.fasta\"\n",
        "filename = \"dna.example.fasta\"\n",
        "filetype = \"fasta\"\n",
        "\n",
        "get_file(url, filename)"
      ],
      "metadata": {
        "id": "7IaqrJhCMRvB"
      },
      "execution_count": 5,
      "outputs": []
    },
    {
      "cell_type": "markdown",
      "source": [
        "## (05) Problem 1\n",
        "* How many records are in the file?\n",
        "  * A FASTA file is a single-line header, followed by lines of sequence data\n",
        "  * The header line is distinguised from the sequence by the a greater-than (\">\") symbol in the first column."
      ],
      "metadata": {
        "id": "xPGR3LfCOXkY"
      }
    },
    {
      "cell_type": "code",
      "source": [
        "print(\"There are %d record(s) in this FASTA file\" % len(process_file(filename, filetype, info=\"identifiers\")))"
      ],
      "metadata": {
        "colab": {
          "base_uri": "https://localhost:8080/"
        },
        "id": "SGtkQr09Oy1I",
        "outputId": "0206e2ba-4014-48c0-f669-2e321cf268f2"
      },
      "execution_count": 6,
      "outputs": [
        {
          "output_type": "stream",
          "name": "stdout",
          "text": [
            "There are 25 record(s) in this FASTA file\n"
          ]
        }
      ]
    },
    {
      "cell_type": "markdown",
      "source": [
        "## (06) Problem 2\n",
        "\n",
        "* What are the lengths of the sequences in the file?\n",
        "* What is the longest sequence?\n",
        "* What is the sortest sequence?\n",
        "* Is there more than one longest sequence?\n",
        "* What are their identifiers?"
      ],
      "metadata": {
        "id": "6I9QkZ0WR0m3"
      }
    },
    {
      "cell_type": "code",
      "source": [
        "# Determining the lengths of the sequences\n",
        "def seq_len(lengths):\n",
        "  # Determining the longest and shortest sequence lengths.\n",
        "  max_seq = max(lengths) # maximum sequence length\n",
        "  min_seq = min(lengths) # minimum sequence length\n",
        "  \n",
        "  max_ind = [ind for ind, value in enumerate(lengths) if value == max_seq]\n",
        "  min_ind = [ind for ind, value in enumerate(lengths) if value == min_seq]\n",
        "\n",
        "  num_max_seq = len([lengths[ind] for ind in max_ind])\n",
        "  num_min_seq = len([lengths[ind] for ind in min_ind])\n",
        "\n",
        "  print(\n",
        "      \"\"\"\n",
        "      The maximum and minimum lengths of sequences is %d and %d respectively.\n",
        "      There are %d record(s) which has the maximum length.\n",
        "      There are %d record(s) which has the minimum length.\n",
        "      \"\"\" % (max_seq, min_seq, num_max_seq, num_min_seq)\n",
        "  )\n",
        "\n",
        "  return max_ind, min_ind"
      ],
      "metadata": {
        "id": "lTDCaiYUrIv2"
      },
      "execution_count": 7,
      "outputs": []
    },
    {
      "cell_type": "code",
      "source": [
        "lengths = process_file(filename, filetype, info=\"length\")\n",
        "identifiers = process_file(filename, filetype, info=\"identifiers\")\n",
        "max_ind, min_ind = seq_len(lengths)"
      ],
      "metadata": {
        "colab": {
          "base_uri": "https://localhost:8080/"
        },
        "id": "FBN31aeYjRs5",
        "outputId": "1bbd4a48-080e-4c19-864a-ea4c26e2484a"
      },
      "execution_count": 8,
      "outputs": [
        {
          "output_type": "stream",
          "name": "stdout",
          "text": [
            "\n",
            "      The maximum and minimum lengths of sequences is 4805 and 512 respectively.\n",
            "      There are 1 record(s) which has the maximum length.\n",
            "      There are 1 record(s) which has the minimum length.\n",
            "      \n"
          ]
        }
      ]
    },
    {
      "cell_type": "code",
      "source": [
        "for ind in max_ind:\n",
        "  print(\"Identifier of sequence with max length: %s\" % (identifiers[ind]))"
      ],
      "metadata": {
        "colab": {
          "base_uri": "https://localhost:8080/"
        },
        "id": "_DCHxwtfsyPr",
        "outputId": "4e2f0c86-3573-4998-8620-9c7b76c41166"
      },
      "execution_count": 9,
      "outputs": [
        {
          "output_type": "stream",
          "name": "stdout",
          "text": [
            "Identifier of sequence with max length: gi|142022655|gb|EQ086233.1|323\n"
          ]
        }
      ]
    },
    {
      "cell_type": "code",
      "source": [
        "for ind in min_ind:\n",
        "  print(\"Identifier of sequence with min length: %s\" % (identifiers[ind]))"
      ],
      "metadata": {
        "colab": {
          "base_uri": "https://localhost:8080/"
        },
        "id": "D3BduguckYiY",
        "outputId": "5ec3bdae-7046-4232-e796-f6c1dc0db4a7"
      },
      "execution_count": 10,
      "outputs": [
        {
          "output_type": "stream",
          "name": "stdout",
          "text": [
            "Identifier of sequence with min length: gi|142022655|gb|EQ086233.1|521\n"
          ]
        }
      ]
    },
    {
      "cell_type": "markdown",
      "source": [
        "## Problem 3\n",
        "\n",
        "* A reading frame is a way dividing the DNA sequence of nucleotides into a set of consecutive, non-overlapping triplets (or codons)\n",
        "* There are six possible reading frames: three in the forward (5' to 3') direction and three in the reverse (3' to 5')\n",
        "* What is the length of the longest ORF in the file?\n",
        "* What is the identifier of the sequence containing the longest ORF?\n",
        "* For a given sequence identifier, what is the longest ORF contained in the sequence represented by that identifier?\n",
        "* What is the starting position of the longest ORF in the sequence that contains it? **The positions should indicate the character number in the sequence**"
      ],
      "metadata": {
        "id": "5e6osomfu8JU"
      }
    },
    {
      "cell_type": "code",
      "source": [
        "from Bio.Seq import Seq\n",
        "my_seq = next(SeqIO.parse(filename, filetype)).seq"
      ],
      "metadata": {
        "id": "J9TfBqobwRun"
      },
      "execution_count": 11,
      "outputs": []
    },
    {
      "cell_type": "code",
      "source": [
        "def extract_reading_frames(my_seq):\n",
        "  # Extracting the reading the frames from a sequence\n",
        "  reading_frame1 = []                   # Reading frame 1\n",
        "  reading_frame2 = [Seq(my_seq[0])]     # Reading frame 2\n",
        "  reading_frame3 = [Seq(my_seq[0:2])]   # Reading frame 3\n",
        "  for frame in range(1, 4):\n",
        "    if frame == 1:\n",
        "      for i in range(0, len(my_seq), 3):\n",
        "        reading_frame1.append(my_seq[i:i+3])\n",
        "    elif frame == 2:\n",
        "      for i in range(1, len(my_seq), 3):\n",
        "        reading_frame2.append(my_seq[i:i+3])\n",
        "    else:\n",
        "      for i in range(2, len(my_seq), 3):\n",
        "        reading_frame3.append(my_seq[i:i+3])\n",
        "\n",
        "  return reading_frame1, reading_frame2, reading_frame3"
      ],
      "metadata": {
        "id": "AyxbwKp8wbhg"
      },
      "execution_count": 12,
      "outputs": []
    },
    {
      "cell_type": "code",
      "source": [
        "def extract_ORF(read_frame):\n",
        "  # Determining the ORFs in the reading frame\n",
        "  # ORFs aresequences that begin with start codons and end with stop codons.\n",
        "  # ORFs have the potential of coding for proteins.\n",
        "  # start_codons: [Seq(\"ATG\")]\n",
        "  # stop_codons: [Seq(\"TAA\"), Seq(\"TAG\"), Seq(\"TGA\")]\n",
        "  # \n",
        "  # Argument(s):\n",
        "  # read_frame: Either reading frame 1 or 2 or 3\n",
        "  #\n",
        "  # Output:\n",
        "  # ORF_LIST: List of all the ORFs\n",
        "  start_codons = [Seq(\"ATG\")]                         # contains the list of start codons\n",
        "  stop_codons = [Seq(\"TAA\"), Seq(\"TAG\"), Seq(\"TGA\")]  # contains the list of stop codons\n",
        "\n",
        "  start_ind = [ind for ind, value in enumerate(read_frame) if value == start_codons[0]]   # the indices containing the start codons\n",
        "  stop_ind = [ind for ind, value in enumerate(read_frame) if (value == stop_codons[0] or value == stop_codons[1] or value == stop_codons[2])] # the indices containing the stop codons\n",
        "\n",
        "  ORF_LIST = []                                       # empty list containing the ORFs\n",
        "  ORF_IND = []                                        # empty list containing the indices of the ORF\n",
        "  ORF = Seq(\"\")                                       # empty ORF character\n",
        "\n",
        "  if len(start_ind) > 0 and len(stop_ind) > 0:        # evaluate this section is there are start and stop codons in the sequence\n",
        "    if start_ind[0] < stop_ind[0]:\n",
        "      for ind in range(start_ind[0], stop_ind[0]):      # evaluating the element in the first element in the reading frame\n",
        "        ORF += read_frame[ind]\n",
        "      ORF_LIST.append(ORF)\n",
        "      ORF_IND.append((start_ind[0], stop_ind[0]))\n",
        "\n",
        "    for start_index in range(1, len(start_ind)):        # evaluating the second element in the start codon indices\n",
        "      ORF = Seq(\"\")                                          \n",
        "      for stop_index in range(1, len(stop_ind)):        # evaluating the second element in the stop codon indices\n",
        "        if ((stop_ind[stop_index] < start_ind[start_index]) or (start_ind[start_index] < stop_ind[stop_index-1])):\n",
        "          continue\n",
        "        \n",
        "        else:\n",
        "          ORF_IND.append((start_ind[start_index], stop_ind[stop_index]))\n",
        "          for ind in range(start_ind[start_index], stop_ind[stop_index]+1): # \n",
        "            ORF += read_frame[ind]                     # appending the codons in the empty characters\n",
        "          ORF_LIST.append(ORF)\n",
        "\n",
        "\n",
        "  # Determining the lengths of the reading frames\n",
        "  ORF_len = []\n",
        "  if len(ORF_LIST) > 0:\n",
        "    for i in range(0, len(ORF_LIST)):\n",
        "      ORF_len.append(len(ORF_LIST[i]))\n",
        "  \n",
        "  # Determining the locations of the maximum codons\n",
        "  max_ORF = []\n",
        "  max_ind = []\n",
        "  max_seq = []\n",
        "  if len(ORF_len) > 0:\n",
        "    max_ORF = [max(ORF_len)]\n",
        "    max_ind = [ORF_IND[ind] for ind, value in enumerate(ORF_len) if value == max_ORF[0]]\n",
        "    max_seq = [ORF_LIST[ind] for ind, value in enumerate(ORF_len) if value == max_ORF[0]]\n",
        "\n",
        "  # Returning the results\n",
        "  return ORF_LIST, ORF_IND, ORF_len, max_ORF, max_ind, max_seq"
      ],
      "metadata": {
        "id": "QQUxAOvrscUd"
      },
      "execution_count": 13,
      "outputs": []
    },
    {
      "cell_type": "code",
      "source": [
        "read_frame1, read_frame2, read_frame3 = extract_reading_frames(my_seq)\n",
        "print(\"Reading Frame 1:\", read_frame1, \"\\n\", \"Reading Frame 2:\", read_frame2, \"\\n\", \"Reading Frame 3:\", read_frame3)"
      ],
      "metadata": {
        "id": "0Z7QV0kz6oX1",
        "colab": {
          "base_uri": "https://localhost:8080/"
        },
        "outputId": "37feb229-7c27-4df2-ad45-ad4d9f6dfd00"
      },
      "execution_count": 14,
      "outputs": [
        {
          "output_type": "stream",
          "name": "stdout",
          "text": [
            "Reading Frame 1: [Seq('TCG'), Seq('GGC'), Seq('GAA'), Seq('GGC'), Seq('GGC'), Seq('AGC'), Seq('AAG'), Seq('TCG'), Seq('TCC'), Seq('ACG'), Seq('CGC'), Seq('AGC'), Seq('GCG'), Seq('GCA'), Seq('CCG'), Seq('CGG'), Seq('GCC'), Seq('TCT'), Seq('GCC'), Seq('GTG'), Seq('CGC'), Seq('TGC'), Seq('TTG'), Seq('GCC'), Seq('ATG'), Seq('GCC'), Seq('TCC'), Seq('AGC'), Seq('GCA'), Seq('CCG'), Seq('ATC'), Seq('GGA'), Seq('TCA'), Seq('AAG'), Seq('CCG'), Seq('CTG'), Seq('AAG'), Seq('CCT'), Seq('TCG'), Seq('CGC'), Seq('ATC'), Seq('AGG'), Seq('CGG'), Seq('CCA'), Seq('TAG'), Seq('TTG'), Seq('GCG'), Seq('CCA'), Seq('GTG'), Seq('ACC'), Seq('GTA'), Seq('CCA'), Seq('ACC'), Seq('GCC'), Seq('TTG'), Seq('ATG'), Seq('CGG'), Seq('CGC'), Seq('TCG'), Seq('GTC'), Seq('ATC'), Seq('GCT'), Seq('GCA'), Seq('TTG'), Seq('ATC'), Seq('GAG'), Seq('TAG'), Seq('CCA'), Seq('CCG'), Seq('CCG'), Seq('CCG'), Seq('CAA'), Seq('ATG'), Seq('CCC'), Seq('AGC'), Seq('ACG'), Seq('CCA'), Seq('ATG'), Seq('CGT'), Seq('TCT'), Seq('TCA'), Seq('TCC'), Seq('ACA'), Seq('TAG'), Seq('GGG'), Seq('AGC'), Seq('GTT'), Seq('ACG'), Seq('AGG'), Seq('TAG'), Seq('TCG'), Seq('CAG'), Seq('ACC'), Seq('ACG'), Seq('CGG'), Seq('AAA'), Seq('TCC'), Seq('TCG'), Seq('ACG'), Seq('CGC'), Seq('AGT'), Seq('GTC'), Seq('GGG'), Seq('TCT'), Seq('TCG'), Seq('GTA'), Seq('AAA'), Seq('CGT'), Seq('GGT'), Seq('TCG'), Seq('CCG'), Seq('CCG'), Seq('CTG'), Seq('GCA'), Seq('CCC'), Seq('TGG'), Seq('AAG'), Seq('CTG'), Seq('GCG'), Seq('TCG'), Seq('AAG'), Seq('GCG'), Seq('ATG'), Seq('ACG'), Seq('ACG'), Seq('AAA'), Seq('CCT'), Seq('TCC'), Seq('TTG'), Seq('GCC'), Seq('AGC'), Seq('GCC'), Seq('TCG'), Seq('CCA'), Seq('TAC'), Seq('ACG'), Seq('TTC'), Seq('CCC'), Seq('GAT'), Seq('GTT'), Seq('TGC'), Seq('TCC'), Seq('TTG'), Seq('CAG'), Seq('CTG'), Seq('CCG'), Seq('ATC'), Seq('GGA'), Seq('TGC'), Seq('GCG'), Seq('CTG'), Seq('ATG'), Seq('ATG'), Seq('GCG'), Seq('GGA'), Seq('TAT'), Seq('TTC'), Seq('TTG'), Seq('CCT'), Seq('TCG'), Seq('TCG'), Seq('AAG'), Seq('TTC'), Seq('GGC'), Seq('GGG'), Seq('AAG'), Seq('TGG'), Seq('ATG'), Seq('TCG'), Seq('GCT'), Seq('GCG'), Seq('ATA'), Seq('TCC'), Seq('CAA'), Seq('TAC'), Seq('ACA'), Seq('TTC'), Seq('TTG'), Seq('ATC'), Seq('TTG'), Seq('ACG'), Seq('CTT'), Seq('TTC'), Seq('ATG'), Seq('ACA'), Seq('GCT'), Seq('CCG'), Seq('TTC'), Seq('AGG'), Seq('GGG'), Seq('AGG'), Seq('GGG'), Seq('TAA'), Seq('GTT'), Seq('CGC'), Seq('CAG'), Seq('GCC'), Seq('GAA'), Seq('TCG'), Seq('TTG'), Seq('GTA'), Seq('GCC'), Seq('AAG'), Seq('CGG'), Seq('CAA'), Seq('CGA'), Seq('CTC'), Seq('GAA'), Seq('TAT'), Seq('AGA'), Seq('GAG'), Seq('CCG'), Seq('ATT'), Seq('GGA'), Seq('ATT'), Seq('CCG'), Seq('TAA'), Seq('GAT'), Seq('CGC'), Seq('AAT'), Seq('CTG'), Seq('GAC'), Seq('TAC'), Seq('AGT'), Seq('GGT'), Seq('ATC'), Seq('TTC'), Seq('AAA'), Seq('TTG'), Seq('ACA'), Seq('ATG'), Seq('GCA'), Seq('CCT'), Seq('ACA'), Seq('TGG'), Seq('ATC'), Seq('CCT'), Seq('CAC'), Seq('TGC'), Seq('TTC'), Seq('CGT'), Seq('CTC'), Seq('TCG'), Seq('CGT'), Seq('GGT'), Seq('TCG'), Seq('CCC'), Seq('ACG'), Seq('TCG'), Seq('CAC'), Seq('ATC'), Seq('ATC'), Seq('GTA'), Seq('GCT'), Seq('TCA'), Seq('CGA'), Seq('AAG'), Seq('CGG'), Seq('CTG'), Seq('CGG'), Seq('AAA'), Seq('TGG'), Seq('GCG'), Seq('TTT'), Seq('CTC'), Seq('GAG'), Seq('CAA'), Seq('ACC'), Seq('TGT'), Seq('CGC'), Seq('AGA'), Seq('ACG'), Seq('TGA'), Seq('AGG'), Seq('CGC'), Seq('TCG'), Seq('AAC'), Seq('GCC'), Seq('GGT'), Seq('TGA'), Seq('ACG'), Seq('TCA'), Seq('AGC'), Seq('TGC'), Seq('TGT'), Seq('ATC'), Seq('GAA'), Seq('CGA'), Seq('CTC'), Seq('GCG'), Seq('ACA'), Seq('TGT'), Seq('CGC'), Seq('TGA'), Seq('CCG'), Seq('AGG'), Seq('AGG'), Seq('GGC'), Seq('AGC'), Seq('GGC'), Seq('TCT'), Seq('ACG'), Seq('AGG'), Seq('TGT'), Seq('GGT'), Seq('ATC'), Seq('CCG'), Seq('CGC'), Seq('TGG'), Seq('TCG'), Seq('CGG'), Seq('TCG'), Seq('AGC'), Seq('GGA'), Seq('CGG'), Seq('TCG'), Seq('ACG'), Seq('CGC'), Seq('TGC'), Seq('ACG'), Seq('AGG'), Seq('AGC'), Seq('GCG'), Seq('ACG'), Seq('AGC'), Seq('CGT'), Seq('CGG'), Seq('GGT'), Seq('TGA'), Seq('TTC')] \n",
            " Reading Frame 2: [Seq('T'), Seq('CGG'), Seq('GCG'), Seq('AAG'), Seq('GCG'), Seq('GCA'), Seq('GCA'), Seq('AGT'), Seq('CGT'), Seq('CCA'), Seq('CGC'), Seq('GCA'), Seq('GCG'), Seq('CGG'), Seq('CAC'), Seq('CGC'), Seq('GGG'), Seq('CCT'), Seq('CTG'), Seq('CCG'), Seq('TGC'), Seq('GCT'), Seq('GCT'), Seq('TGG'), Seq('CCA'), Seq('TGG'), Seq('CCT'), Seq('CCA'), Seq('GCG'), Seq('CAC'), Seq('CGA'), Seq('TCG'), Seq('GAT'), Seq('CAA'), Seq('AGC'), Seq('CGC'), Seq('TGA'), Seq('AGC'), Seq('CTT'), Seq('CGC'), Seq('GCA'), Seq('TCA'), Seq('GGC'), Seq('GGC'), Seq('CAT'), Seq('AGT'), Seq('TGG'), Seq('CGC'), Seq('CAG'), Seq('TGA'), Seq('CCG'), Seq('TAC'), Seq('CAA'), Seq('CCG'), Seq('CCT'), Seq('TGA'), Seq('TGC'), Seq('GGC'), Seq('GCT'), Seq('CGG'), Seq('TCA'), Seq('TCG'), Seq('CTG'), Seq('CAT'), Seq('TGA'), Seq('TCG'), Seq('AGT'), Seq('AGC'), Seq('CAC'), Seq('CGC'), Seq('CGC'), Seq('CGC'), Seq('AAA'), Seq('TGC'), Seq('CCA'), Seq('GCA'), Seq('CGC'), Seq('CAA'), Seq('TGC'), Seq('GTT'), Seq('CTT'), Seq('CAT'), Seq('CCA'), Seq('CAT'), Seq('AGG'), Seq('GGA'), Seq('GCG'), Seq('TTA'), Seq('CGA'), Seq('GGT'), Seq('AGT'), Seq('CGC'), Seq('AGA'), Seq('CCA'), Seq('CGC'), Seq('GGA'), Seq('AAT'), Seq('CCT'), Seq('CGA'), Seq('CGC'), Seq('GCA'), Seq('GTG'), Seq('TCG'), Seq('GGT'), Seq('CTT'), Seq('CGG'), Seq('TAA'), Seq('AAC'), Seq('GTG'), Seq('GTT'), Seq('CGC'), Seq('CGC'), Seq('CGC'), Seq('TGG'), Seq('CAC'), Seq('CCT'), Seq('GGA'), Seq('AGC'), Seq('TGG'), Seq('CGT'), Seq('CGA'), Seq('AGG'), Seq('CGA'), Seq('TGA'), Seq('CGA'), Seq('CGA'), Seq('AAC'), Seq('CTT'), Seq('CCT'), Seq('TGG'), Seq('CCA'), Seq('GCG'), Seq('CCT'), Seq('CGC'), Seq('CAT'), Seq('ACA'), Seq('CGT'), Seq('TCC'), Seq('CCG'), Seq('ATG'), Seq('TTT'), Seq('GCT'), Seq('CCT'), Seq('TGC'), Seq('AGC'), Seq('TGC'), Seq('CGA'), Seq('TCG'), Seq('GAT'), Seq('GCG'), Seq('CGC'), Seq('TGA'), Seq('TGA'), Seq('TGG'), Seq('CGG'), Seq('GAT'), Seq('ATT'), Seq('TCT'), Seq('TGC'), Seq('CTT'), Seq('CGT'), Seq('CGA'), Seq('AGT'), Seq('TCG'), Seq('GCG'), Seq('GGA'), Seq('AGT'), Seq('GGA'), Seq('TGT'), Seq('CGG'), Seq('CTG'), Seq('CGA'), Seq('TAT'), Seq('CCC'), Seq('AAT'), Seq('ACA'), Seq('CAT'), Seq('TCT'), Seq('TGA'), Seq('TCT'), Seq('TGA'), Seq('CGC'), Seq('TTT'), Seq('TCA'), Seq('TGA'), Seq('CAG'), Seq('CTC'), Seq('CGT'), Seq('TCA'), Seq('GGG'), Seq('GGA'), Seq('GGG'), Seq('GGT'), Seq('AAG'), Seq('TTC'), Seq('GCC'), Seq('AGG'), Seq('CCG'), Seq('AAT'), Seq('CGT'), Seq('TGG'), Seq('TAG'), Seq('CCA'), Seq('AGC'), Seq('GGC'), Seq('AAC'), Seq('GAC'), Seq('TCG'), Seq('AAT'), Seq('ATA'), Seq('GAG'), Seq('AGC'), Seq('CGA'), Seq('TTG'), Seq('GAA'), Seq('TTC'), Seq('CGT'), Seq('AAG'), Seq('ATC'), Seq('GCA'), Seq('ATC'), Seq('TGG'), Seq('ACT'), Seq('ACA'), Seq('GTG'), Seq('GTA'), Seq('TCT'), Seq('TCA'), Seq('AAT'), Seq('TGA'), Seq('CAA'), Seq('TGG'), Seq('CAC'), Seq('CTA'), Seq('CAT'), Seq('GGA'), Seq('TCC'), Seq('CTC'), Seq('ACT'), Seq('GCT'), Seq('TCC'), Seq('GTC'), Seq('TCT'), Seq('CGC'), Seq('GTG'), Seq('GTT'), Seq('CGC'), Seq('CCA'), Seq('CGT'), Seq('CGC'), Seq('ACA'), Seq('TCA'), Seq('TCG'), Seq('TAG'), Seq('CTT'), Seq('CAC'), Seq('GAA'), Seq('AGC'), Seq('GGC'), Seq('TGC'), Seq('GGA'), Seq('AAT'), Seq('GGG'), Seq('CGT'), Seq('TTC'), Seq('TCG'), Seq('AGC'), Seq('AAA'), Seq('CCT'), Seq('GTC'), Seq('GCA'), Seq('GAA'), Seq('CGT'), Seq('GAA'), Seq('GGC'), Seq('GCT'), Seq('CGA'), Seq('ACG'), Seq('CCG'), Seq('GTT'), Seq('GAA'), Seq('CGT'), Seq('CAA'), Seq('GCT'), Seq('GCT'), Seq('GTA'), Seq('TCG'), Seq('AAC'), Seq('GAC'), Seq('TCG'), Seq('CGA'), Seq('CAT'), Seq('GTC'), Seq('GCT'), Seq('GAC'), Seq('CGA'), Seq('GGA'), Seq('GGG'), Seq('GCA'), Seq('GCG'), Seq('GCT'), Seq('CTA'), Seq('CGA'), Seq('GGT'), Seq('GTG'), Seq('GTA'), Seq('TCC'), Seq('CGC'), Seq('GCT'), Seq('GGT'), Seq('CGC'), Seq('GGT'), Seq('CGA'), Seq('GCG'), Seq('GAC'), Seq('GGT'), Seq('CGA'), Seq('CGC'), Seq('GCT'), Seq('GCA'), Seq('CGA'), Seq('GGA'), Seq('GCG'), Seq('CGA'), Seq('CGA'), Seq('GCC'), Seq('GTC'), Seq('GGG'), Seq('GTT'), Seq('GAT'), Seq('TC')] \n",
            " Reading Frame 3: [Seq('TC'), Seq('GGG'), Seq('CGA'), Seq('AGG'), Seq('CGG'), Seq('CAG'), Seq('CAA'), Seq('GTC'), Seq('GTC'), Seq('CAC'), Seq('GCG'), Seq('CAG'), Seq('CGC'), Seq('GGC'), Seq('ACC'), Seq('GCG'), Seq('GGC'), Seq('CTC'), Seq('TGC'), Seq('CGT'), Seq('GCG'), Seq('CTG'), Seq('CTT'), Seq('GGC'), Seq('CAT'), Seq('GGC'), Seq('CTC'), Seq('CAG'), Seq('CGC'), Seq('ACC'), Seq('GAT'), Seq('CGG'), Seq('ATC'), Seq('AAA'), Seq('GCC'), Seq('GCT'), Seq('GAA'), Seq('GCC'), Seq('TTC'), Seq('GCG'), Seq('CAT'), Seq('CAG'), Seq('GCG'), Seq('GCC'), Seq('ATA'), Seq('GTT'), Seq('GGC'), Seq('GCC'), Seq('AGT'), Seq('GAC'), Seq('CGT'), Seq('ACC'), Seq('AAC'), Seq('CGC'), Seq('CTT'), Seq('GAT'), Seq('GCG'), Seq('GCG'), Seq('CTC'), Seq('GGT'), Seq('CAT'), Seq('CGC'), Seq('TGC'), Seq('ATT'), Seq('GAT'), Seq('CGA'), Seq('GTA'), Seq('GCC'), Seq('ACC'), Seq('GCC'), Seq('GCC'), Seq('GCA'), Seq('AAT'), Seq('GCC'), Seq('CAG'), Seq('CAC'), Seq('GCC'), Seq('AAT'), Seq('GCG'), Seq('TTC'), Seq('TTC'), Seq('ATC'), Seq('CAC'), Seq('ATA'), Seq('GGG'), Seq('GAG'), Seq('CGT'), Seq('TAC'), Seq('GAG'), Seq('GTA'), Seq('GTC'), Seq('GCA'), Seq('GAC'), Seq('CAC'), Seq('GCG'), Seq('GAA'), Seq('ATC'), Seq('CTC'), Seq('GAC'), Seq('GCG'), Seq('CAG'), Seq('TGT'), Seq('CGG'), Seq('GTC'), Seq('TTC'), Seq('GGT'), Seq('AAA'), Seq('ACG'), Seq('TGG'), Seq('TTC'), Seq('GCC'), Seq('GCC'), Seq('GCT'), Seq('GGC'), Seq('ACC'), Seq('CTG'), Seq('GAA'), Seq('GCT'), Seq('GGC'), Seq('GTC'), Seq('GAA'), Seq('GGC'), Seq('GAT'), Seq('GAC'), Seq('GAC'), Seq('GAA'), Seq('ACC'), Seq('TTC'), Seq('CTT'), Seq('GGC'), Seq('CAG'), Seq('CGC'), Seq('CTC'), Seq('GCC'), Seq('ATA'), Seq('CAC'), Seq('GTT'), Seq('CCC'), Seq('CGA'), Seq('TGT'), Seq('TTG'), Seq('CTC'), Seq('CTT'), Seq('GCA'), Seq('GCT'), Seq('GCC'), Seq('GAT'), Seq('CGG'), Seq('ATG'), Seq('CGC'), Seq('GCT'), Seq('GAT'), Seq('GAT'), Seq('GGC'), Seq('GGG'), Seq('ATA'), Seq('TTT'), Seq('CTT'), Seq('GCC'), Seq('TTC'), Seq('GTC'), Seq('GAA'), Seq('GTT'), Seq('CGG'), Seq('CGG'), Seq('GAA'), Seq('GTG'), Seq('GAT'), Seq('GTC'), Seq('GGC'), Seq('TGC'), Seq('GAT'), Seq('ATC'), Seq('CCA'), Seq('ATA'), Seq('CAC'), Seq('ATT'), Seq('CTT'), Seq('GAT'), Seq('CTT'), Seq('GAC'), Seq('GCT'), Seq('TTT'), Seq('CAT'), Seq('GAC'), Seq('AGC'), Seq('TCC'), Seq('GTT'), Seq('CAG'), Seq('GGG'), Seq('GAG'), Seq('GGG'), Seq('GTA'), Seq('AGT'), Seq('TCG'), Seq('CCA'), Seq('GGC'), Seq('CGA'), Seq('ATC'), Seq('GTT'), Seq('GGT'), Seq('AGC'), Seq('CAA'), Seq('GCG'), Seq('GCA'), Seq('ACG'), Seq('ACT'), Seq('CGA'), Seq('ATA'), Seq('TAG'), Seq('AGA'), Seq('GCC'), Seq('GAT'), Seq('TGG'), Seq('AAT'), Seq('TCC'), Seq('GTA'), Seq('AGA'), Seq('TCG'), Seq('CAA'), Seq('TCT'), Seq('GGA'), Seq('CTA'), Seq('CAG'), Seq('TGG'), Seq('TAT'), Seq('CTT'), Seq('CAA'), Seq('ATT'), Seq('GAC'), Seq('AAT'), Seq('GGC'), Seq('ACC'), Seq('TAC'), Seq('ATG'), Seq('GAT'), Seq('CCC'), Seq('TCA'), Seq('CTG'), Seq('CTT'), Seq('CCG'), Seq('TCT'), Seq('CTC'), Seq('GCG'), Seq('TGG'), Seq('TTC'), Seq('GCC'), Seq('CAC'), Seq('GTC'), Seq('GCA'), Seq('CAT'), Seq('CAT'), Seq('CGT'), Seq('AGC'), Seq('TTC'), Seq('ACG'), Seq('AAA'), Seq('GCG'), Seq('GCT'), Seq('GCG'), Seq('GAA'), Seq('ATG'), Seq('GGC'), Seq('GTT'), Seq('TCT'), Seq('CGA'), Seq('GCA'), Seq('AAC'), Seq('CTG'), Seq('TCG'), Seq('CAG'), Seq('AAC'), Seq('GTG'), Seq('AAG'), Seq('GCG'), Seq('CTC'), Seq('GAA'), Seq('CGC'), Seq('CGG'), Seq('TTG'), Seq('AAC'), Seq('GTC'), Seq('AAG'), Seq('CTG'), Seq('CTG'), Seq('TAT'), Seq('CGA'), Seq('ACG'), Seq('ACT'), Seq('CGC'), Seq('GAC'), Seq('ATG'), Seq('TCG'), Seq('CTG'), Seq('ACC'), Seq('GAG'), Seq('GAG'), Seq('GGG'), Seq('CAG'), Seq('CGG'), Seq('CTC'), Seq('TAC'), Seq('GAG'), Seq('GTG'), Seq('TGG'), Seq('TAT'), Seq('CCC'), Seq('GCG'), Seq('CTG'), Seq('GTC'), Seq('GCG'), Seq('GTC'), Seq('GAG'), Seq('CGG'), Seq('ACG'), Seq('GTC'), Seq('GAC'), Seq('GCG'), Seq('CTG'), Seq('CAC'), Seq('GAG'), Seq('GAG'), Seq('CGC'), Seq('GAC'), Seq('GAG'), Seq('CCG'), Seq('TCG'), Seq('GGG'), Seq('TTG'), Seq('ATT'), Seq('C')]\n"
          ]
        }
      ]
    },
    {
      "cell_type": "code",
      "source": [
        "for frame in range(0, 3):\n",
        "  if frame == 0:\n",
        "    ORF_LIST, ORF_IND, ORF_len, max_ORF, max_ind, max_seq = extract_ORF(read_frame1)\n",
        "    print(\"\\n Processing reading frame 1 ...\")\n",
        "  elif frame == 1:\n",
        "    ORF_LIST, ORF_IND, ORF_len, max_ORF, max_ind, max_seq = extract_ORF(read_frame2)\n",
        "    print(\"\\n Processing reading frame 2 ...\")\n",
        "  else:\n",
        "    ORF_LIST, ORF_IND, ORF_len, max_ORF, max_ind, max_seq = extract_ORF(read_frame3)\n",
        "    print(\"\\n Processing reading frame 3 ...\")\n",
        "  print(\"ORF List:\", ORF_LIST, \"\\n\", \"ORF Indices\", ORF_IND, \"\\n\", \"ORF lengths\", ORF_len, \"\\n\", \"Maximum Length of an ORF in a sequence\", max_ORF, \"\\n\", \"Index of a the maximum ORF\", max_ind, \"\\n\", \"Maximum sequence:\", max_seq)"
      ],
      "metadata": {
        "colab": {
          "base_uri": "https://localhost:8080/"
        },
        "id": "FYKu21FTuthT",
        "outputId": "6f70f0c2-9767-4ad4-ac48-268e6359ea31"
      },
      "execution_count": 15,
      "outputs": [
        {
          "output_type": "stream",
          "name": "stdout",
          "text": [
            "\n",
            " Processing reading frame 1 ...\n",
            "ORF List: [Seq('ATGGCCTCCAGCGCACCGATCGGATCAAAGCCGCTGAAGCCTTCGCGCATCAGGCGGCCA'), Seq('ATGCGGCGCTCGGTCATCGCTGCATTGATCGAGTAG'), Seq('ATGCCCAGCACGCCAATGCGTTCTTCATCCACATAG'), Seq('ATGCGTTCTTCATCCACATAG'), Seq('ATGACGACGAAACCTTCCTTGGCCAGCGCCTCGCCATACACGTTCCCCGATGTT...TAA'), Seq('ATGATGGCGGGATATTTCTTGCCTTCGTCGAAGTTCGGCGGGAAGTGGATGTCG...TAA'), Seq('ATGGCGGGATATTTCTTGCCTTCGTCGAAGTTCGGCGGGAAGTGGATGTCGGCT...TAA'), Seq('ATGTCGGCTGCGATATCCCAATACACATTCTTGATCTTGACGCTTTTCATGACA...TAA'), Seq('ATGACAGCTCCGTTCAGGGGGAGGGGGTAA'), Seq('ATGGCACCTACATGGATCCCTCACTGCTTCCGTCTCTCGCGTGGTTCGCCCACG...TGA')] \n",
            " ORF Indices [(24, 44), (55, 66), (72, 83), (77, 83), (122, 192), (151, 192), (152, 192), (167, 192), (183, 192), (230, 272)] \n",
            " ORF lengths [60, 36, 36, 21, 213, 126, 123, 78, 30, 129] \n",
            " Maximum Length of an ORF in a sequence [213] \n",
            " Index of a the maximum ORF [(122, 192)] \n",
            " Maximum sequence: [Seq('ATGACGACGAAACCTTCCTTGGCCAGCGCCTCGCCATACACGTTCCCCGATGTT...TAA')]\n",
            "\n",
            " Processing reading frame 2 ...\n",
            "ORF List: [] \n",
            " ORF Indices [] \n",
            " ORF lengths [] \n",
            " Maximum Length of an ORF in a sequence [] \n",
            " Index of a the maximum ORF [] \n",
            " Maximum sequence: []\n",
            "\n",
            " Processing reading frame 3 ...\n",
            "ORF List: [Seq('ATGCGCGCTGATGATGGCGGGATATTTCTTGCCTTCGTCGAAGTTCGGCGGGAA...ATA')] \n",
            " ORF Indices [(148, 209)] \n",
            " ORF lengths [183] \n",
            " Maximum Length of an ORF in a sequence [183] \n",
            " Index of a the maximum ORF [(148, 209)] \n",
            " Maximum sequence: [Seq('ATGCGCGCTGATGATGGCGGGATATTTCTTGCCTTCGTCGAAGTTCGGCGGGAA...ATA')]\n"
          ]
        }
      ]
    },
    {
      "cell_type": "markdown",
      "source": [
        "## (04) Problem 4\n",
        "\n",
        "* A repeat is a substring of a DNA sequence that occurs in multiple copies (more than one) somewhere in the sequence\n",
        "* For example, the sequence ACACA contains two copies of the sequence ACA - once at position 1 (index 0 in Python), and onece at position 3"
      ],
      "metadata": {
        "id": "NkRfQyg7l-6u"
      }
    },
    {
      "cell_type": "code",
      "source": [
        "my_seq = Seq(\"ACACACA\")\n",
        "n = 3"
      ],
      "metadata": {
        "id": "6vfyiMlKmzp7"
      },
      "execution_count": 16,
      "outputs": []
    },
    {
      "cell_type": "code",
      "source": [
        "def repeats_finder(my_seq, n):\n",
        "  repeats = {}\n",
        "  # Starts at position 0\n",
        "  rep = my_seq[0:0+n]\n",
        "\n",
        "  count = 0\n",
        "  position = []\n",
        "\n",
        "  for j in range(0, len(my_seq)-n+1):\n",
        "    print('Repeat Subject', rep, 'Repeat Query', my_seq[j:j+n])\n",
        "    if rep == my_seq[j:j+n]:\n",
        "      position.append(j+1)\n",
        "      count += 1\n",
        "  print('\\n')\n",
        "\n",
        "  if count > 1:\n",
        "    repeats[rep] = [(count), position]\n",
        "\n",
        "  # Starts at position 1\n",
        "  for i in range(1, len(my_seq)):\n",
        "    rep = my_seq[i:i+n]\n",
        "    \n",
        "    count = 0\n",
        "    position = []\n",
        "    if not key_finder(rep, repeats):\n",
        "      for j in range(i, len(my_seq)-n+1):\n",
        "        print('Repeat Subject', rep, 'Repeat Query', my_seq[j:j+n])\n",
        "        if rep == my_seq[j:j+n]:\n",
        "          position.append(j+1)\n",
        "          count += 1\n",
        "      print('\\n')\n",
        "\n",
        "      if count > 1:\n",
        "        repeats[rep] = [(count), position]\n",
        "    else:\n",
        "      continue\n",
        "  return(repeats)\n",
        "\n",
        "def key_finder(rep, repeats):\n",
        "  keys = repeats.keys()\n",
        "  keys_list = [key[1] for key in enumerate(keys)]\n",
        "\n",
        "  return any([key[1] == rep for key in enumerate(keys_list)])"
      ],
      "metadata": {
        "id": "nsF9OjdunDqW"
      },
      "execution_count": 17,
      "outputs": []
    },
    {
      "cell_type": "code",
      "source": [
        "reps = repeats_finder(my_seq, n)\n",
        "print(reps)"
      ],
      "metadata": {
        "colab": {
          "base_uri": "https://localhost:8080/"
        },
        "id": "87Fum_I05czj",
        "outputId": "63bbd058-d385-400d-d69f-442c17786af9"
      },
      "execution_count": 18,
      "outputs": [
        {
          "output_type": "stream",
          "name": "stdout",
          "text": [
            "Repeat Subject ACA Repeat Query ACA\n",
            "Repeat Subject ACA Repeat Query CAC\n",
            "Repeat Subject ACA Repeat Query ACA\n",
            "Repeat Subject ACA Repeat Query CAC\n",
            "Repeat Subject ACA Repeat Query ACA\n",
            "\n",
            "\n",
            "Repeat Subject CAC Repeat Query CAC\n",
            "Repeat Subject CAC Repeat Query ACA\n",
            "Repeat Subject CAC Repeat Query CAC\n",
            "Repeat Subject CAC Repeat Query ACA\n",
            "\n",
            "\n",
            "\n",
            "\n",
            "\n",
            "\n",
            "{Seq('ACA'): [3, [1, 3, 5]], Seq('CAC'): [2, [2, 4]]}\n"
          ]
        }
      ]
    },
    {
      "cell_type": "markdown",
      "source": [
        "## (05) Final Exam Questions"
      ],
      "metadata": {
        "id": "0croG9i0D9Qt"
      }
    },
    {
      "cell_type": "markdown",
      "source": [
        "### 1: How many records are in the multi-FASTA file"
      ],
      "metadata": {
        "id": "AEA-D1FXEE5m"
      }
    },
    {
      "cell_type": "code",
      "source": [
        "fileurl = \"https://d396qusza40orc.cloudfront.net/genpython/data_sets/dna2.fasta\"\n",
        "filename = \"dna2.fasta\"\n",
        "filetype = \"fasta\""
      ],
      "metadata": {
        "id": "wB-L6dxXERqj"
      },
      "execution_count": 19,
      "outputs": []
    },
    {
      "cell_type": "code",
      "source": [
        "get_file(fileurl, filename)"
      ],
      "metadata": {
        "id": "AUZU4zVvEYX9"
      },
      "execution_count": 20,
      "outputs": []
    },
    {
      "cell_type": "code",
      "source": [
        "print(\"There are %d records in the multi-FASTA file.\" % len(process_file(filename, filetype, info=\"identifiers\")))"
      ],
      "metadata": {
        "colab": {
          "base_uri": "https://localhost:8080/"
        },
        "id": "DDPw0yKQEga8",
        "outputId": "87936b8e-ae59-4db1-be19-73d8ac321333"
      },
      "execution_count": 21,
      "outputs": [
        {
          "output_type": "stream",
          "name": "stdout",
          "text": [
            "There are 18 records in the multi-FASTA file.\n"
          ]
        }
      ]
    },
    {
      "cell_type": "markdown",
      "source": [
        "### 2-3. What is the length of the longest sequence in the file?\n"
      ],
      "metadata": {
        "id": "pWPotQVwE4UT"
      }
    },
    {
      "cell_type": "code",
      "source": [
        "lengths = process_file(filename, filetype, info=\"length\")\n",
        "max_ind, min_ind = seq_len(lengths)\n",
        "\n",
        "print(\"\\n Longest Sequence:\", lengths[max_ind[0]], \"\\n\", \"\\n Shortest Sequence\", lengths[min_ind[0]])"
      ],
      "metadata": {
        "colab": {
          "base_uri": "https://localhost:8080/"
        },
        "id": "fdx0xbK8FJNt",
        "outputId": "c9b26f59-f661-45b8-8c0b-1aa5e8b586d5"
      },
      "execution_count": 21,
      "outputs": [
        {
          "output_type": "stream",
          "name": "stdout",
          "text": [
            "\n",
            "      The maximum and minimum lengths of sequences is 4894 and 115 respectively.\n",
            "      There are 1 record(s) which has the maximum length.\n",
            "      There are 1 record(s) which has the minimum length.\n",
            "      \n",
            "\n",
            " Longest Sequence: 4894 \n",
            " \n",
            " Shortest Sequence 115\n"
          ]
        }
      ]
    },
    {
      "cell_type": "markdown",
      "source": [
        "### 4. What is the length of the longest ORF appeariing in reading frame 2 of any sequence"
      ],
      "metadata": {
        "id": "QxGIfrlMHJcY"
      }
    },
    {
      "cell_type": "code",
      "source": [
        "sequences = process_file(filename, filetype, info=\"sequence\")\n",
        "\n",
        "longest_ORF_rf2 = []\n",
        "for seq_ind in range(0, len(sequences)):\n",
        "  read_frame1, read_frame2, read_frame3 = extract_reading_frames(sequences[seq_ind])\n",
        "  \n",
        "  ORF_LIST, ORF_IND, ORF_len, max_ORF, max_ind, max_seq = extract_ORF(read_frame2)\n",
        "  longest_ORF_rf2.append(max_ORF)\n",
        "\n",
        "print(\"The length of the longest ORF appearing in reading frame 2 of any sequences is\", max(longest_ORF_rf2))"
      ],
      "metadata": {
        "colab": {
          "base_uri": "https://localhost:8080/"
        },
        "id": "n44M0lAyHIkC",
        "outputId": "fbb90c98-c753-449e-dfdb-86c4e9dddf7a"
      },
      "execution_count": 22,
      "outputs": [
        {
          "output_type": "stream",
          "name": "stdout",
          "text": [
            "The length of the longest ORF appearing in reading frame 2 of any sequences is [1458]\n"
          ]
        }
      ]
    },
    {
      "cell_type": "markdown",
      "source": [
        "### 5. What is the starting position of the longest ORF in reading frame 3 in any of the sequences?"
      ],
      "metadata": {
        "id": "PxkSEoGyM6K7"
      }
    },
    {
      "cell_type": "code",
      "source": [
        "## Determining the longest ORF \n",
        "longest_ORF_rf3 = []\n",
        "longest_ORF_rf3_indices = []\n",
        "longest_ORF_rf3_sequences = []\n",
        "for seq_ind in range(0, len(sequences)):\n",
        "  read_frame1, read_frame2, read_frame3 = extract_reading_frames(sequences[seq_ind])\n",
        "\n",
        "  ORF_LIST, ORF_IND, ORF_len, max_ORF, max_ind, max_seq = extract_ORF(read_frame3)\n",
        "  longest_ORF_rf3.append(max_ORF)\n",
        "  longest_ORF_rf3_sequences.append(max_seq)\n",
        "\n",
        "max_ORF_rf3 = max(longest_ORF_rf3)\n",
        "indices = [ind for ind, value in enumerate(longest_ORF_rf3) if value == max_ORF_rf3]\n",
        "\n",
        "## Determining the position of the longest ORF in reading frame 3\n",
        "longest_seq = sequences[indices[0]]\n",
        "ORF = longest_ORF_rf3_sequences[indices[0]]\n",
        "n = len(ORF[0])\n",
        "\n",
        "start_position = []\n",
        "for i in range(0, len(longest_seq)):\n",
        "  if longest_seq[i:i+n] == ORF[0]:\n",
        "    start_position.append(i)\n",
        "\n",
        "print(\"The starting position of the longest ORF in reading frame 3 in any sequences is \", start_position[0]+1)"
      ],
      "metadata": {
        "colab": {
          "base_uri": "https://localhost:8080/"
        },
        "id": "M-szjSqsNFRS",
        "outputId": "270c5e34-3b9d-4850-8022-74011b69d738"
      },
      "execution_count": 23,
      "outputs": [
        {
          "output_type": "stream",
          "name": "stdout",
          "text": [
            "The starting position of the longest ORF in reading frame 3 in any sequences is  636\n"
          ]
        }
      ]
    },
    {
      "cell_type": "markdown",
      "source": [
        "### (6) What is the length of the longest ORF appearing in any sequence and in any forward reading frame?"
      ],
      "metadata": {
        "id": "XiGiPKZSSkcu"
      }
    },
    {
      "cell_type": "code",
      "source": [
        "long_ORFs = {}\n",
        "\n",
        "for frame in range(0, 3):\n",
        "  if frame == 0:\n",
        "    longest_ORF = []\n",
        "    for seq_ind in range(0, len(sequences)):\n",
        "      read_frame1, read_frame2, read_frame3 = extract_reading_frames(sequences[seq_ind])\n",
        "\n",
        "      ORF_LIST, ORF_IND, ORF_len, max_ORF, max_ind, max_seq = extract_ORF(read_frame1)\n",
        "      longest_ORF.append(max_ORF)\n",
        "    long_ORFs[\"Reading Frame 1\"] = max(longest_ORF)\n",
        "  elif frame == 1:\n",
        "    longest_ORF = []\n",
        "    for seq_ind in range(0, len(sequences)):\n",
        "      read_frame1, read_frame2, read_frame3 = extract_reading_frames(sequences[seq_ind])\n",
        "\n",
        "      ORF_LIST, ORF_IND, ORF_len, max_ORF, max_ind, max_seq = extract_ORF(read_frame2)\n",
        "      longest_ORF.append(max_ORF)                                                                    \n",
        "    long_ORFs[\"Reading Frame 2\"] = max(longest_ORF)\n",
        "  else:\n",
        "    longest_ORF = []\n",
        "    for seq_ind in range(0, len(sequences)):\n",
        "      read_frame1, read_frame2, read_frame3 = extract_reading_frames(sequences[seq_ind])\n",
        "\n",
        "      ORF_LIST, ORF_IND, ORF_len, max_ORF, max_ind, max_seq = extract_ORF(read_frame3)\n",
        "      longest_ORF.append(max_ORF)\n",
        "    long_ORFs[\"Reading Frame 3\"] = max(longest_ORF)\n",
        "\n",
        "print(long_ORFs)"
      ],
      "metadata": {
        "colab": {
          "base_uri": "https://localhost:8080/"
        },
        "id": "wyZo6mb-Sjrf",
        "outputId": "e77fc3fb-1283-454d-8704-d2b0d1773e49"
      },
      "execution_count": 24,
      "outputs": [
        {
          "output_type": "stream",
          "name": "stdout",
          "text": [
            "{'Reading Frame 1': [2097], 'Reading Frame 2': [1458], 'Reading Frame 3': [1821]}\n"
          ]
        }
      ]
    },
    {
      "cell_type": "markdown",
      "source": [
        "## (07) What is the length of the longest forward ORF that appears in the sequence with the identifier gi|142022655|gb|EQ086233.1|16?"
      ],
      "metadata": {
        "id": "Jea0DjxMVpxm"
      }
    },
    {
      "cell_type": "code",
      "source": [
        "identifiers = process_file(filename, filetype, info=\"identifiers\")\n",
        "identifier = \"gi|142022655|gb|EQ086233.1|16\"\n",
        "\n",
        "ind = [identifiers.index(identifier)]\n",
        "seq = sequences[ind[0]]"
      ],
      "metadata": {
        "id": "966Vm565V9j_"
      },
      "execution_count": 25,
      "outputs": []
    },
    {
      "cell_type": "code",
      "source": [
        "longest_ORF_myseq = {}\n",
        "read_frame1, read_frame2, read_frame3 = extract_reading_frames(seq)\n",
        "\n",
        "for frame in range(0, 3):\n",
        "\n",
        "  if frame == 0:\n",
        "    ORF_LIST, ORF_IND, ORF_len, max_ORF, max_ind, max_seq = extract_ORF(read_frame1)\n",
        "    \n",
        "    longest_ORF_myseq[\"Reading Frame 1:\"] = max_ORF\n",
        "  elif frame == 1:\n",
        "    ORF_LIST, ORF_IND, ORF_len, max_ORF, max_ind, max_seq = extract_ORF(read_frame2)\n",
        "\n",
        "    longest_ORF_myseq[\"Reading Frame 2:\"] = max_ORF\n",
        "  else:\n",
        "    ORF_LIST, ORF_IND, ORF_len, max_ORF, max_ind, max_seq = extract_ORF(read_frame3)\n",
        "\n",
        "    longest_ORF_myseq[\"Reading Frame 3:\"] = max_ORF\n",
        "\n",
        "print(longest_ORF_myseq)\n"
      ],
      "metadata": {
        "colab": {
          "base_uri": "https://localhost:8080/"
        },
        "id": "YGyn_oENWJ99",
        "outputId": "a7b98dae-dfbf-4958-e7d4-f9b370dc7ab7"
      },
      "execution_count": 26,
      "outputs": [
        {
          "output_type": "stream",
          "name": "stdout",
          "text": [
            "{'Reading Frame 1:': [1509], 'Reading Frame 2:': [1458], 'Reading Frame 3:': [1644]}\n"
          ]
        }
      ]
    },
    {
      "cell_type": "markdown",
      "source": [
        "### (08) Find the most frequently occuring repeat of length 6 in all sequences. How many times does it occur in all?"
      ],
      "metadata": {
        "id": "zT7W7stZYPAG"
      }
    },
    {
      "cell_type": "code",
      "source": [
        "from joblib import load\n",
        "\n",
        "def reps_compile(reps, reps_compiled):\n",
        "  keys_compiled = reps_compiled.keys()   # keys in the compiled repeats\n",
        "  vals_compiled = reps_compiled.values() # values in the compiled repeats\n",
        "\n",
        "  keys = reps.keys()            # keys in the inputted repeats\n",
        "  vals = reps.values()          # values in the inputted repeats\n",
        "\n",
        "  keys_compiled_list = [key_comp[1] for key_comp in enumerate(keys_compiled)]\n",
        "  keys_list = [key[1] for key in enumerate(keys)]\n",
        "\n",
        "  if len(keys_list) > 0:\n",
        "    for ind in range(0, len(keys_list)):\n",
        "      if len(reps_compiled) > 0:\n",
        "        if any([keys_list[ind] == val for i, val in enumerate(keys_compiled_list)]):\n",
        "          reps_compiled[keys_list[ind]] += reps[keys_list[ind]][0]\n",
        "      else:\n",
        "        for ind in range(0, len(keys_list)):\n",
        "          reps_compiled[keys_list[ind]] = reps[keys_list[ind]][0]\n",
        "  \n",
        "  return reps_compiled\n",
        "\n",
        "from joblib import load\n",
        "\n",
        "def load_data(path_):\n",
        "  with open(path_, 'rb') as handle:\n",
        "    dataset = load(handle)\n",
        "  \n",
        "  return(dataset)"
      ],
      "metadata": {
        "id": "V7E4aL6QXe7A"
      },
      "execution_count": 32,
      "outputs": []
    },
    {
      "cell_type": "code",
      "source": [
        "for l in [6, 12, 7]:\n",
        "  reps_compiled = {}\n",
        "  for seq in range(0, len(sequences)):\n",
        "    reps = repeats_finder(sequences[seq], l)\n",
        "    reps_compiled = reps_compile(reps, reps_compiled)\n",
        "\n",
        "  if l == 6:\n",
        "    with open(os.path.join(PROJECT_ROOT_DIR, 'reps_compiled_l06.pkl'), 'wb') as handle:\n",
        "      pickle.dump(reps_compiled, handle)\n",
        "  if l == 12:\n",
        "    with open(os.path.join(PROJECT_ROOT_DIR, 'reps_compiled_l12.pkl'), 'wb') as handle:\n",
        "      pickle.dump(reps_compiled, handle)\n",
        "  else:\n",
        "    with open(os.path.join(PROJECT_ROOT_DIR, 'reps_compiled_l07.pkl'), 'wb') as handle:\n",
        "      pickle.dump(reps_compiled, handle)"
      ],
      "metadata": {
        "id": "5SG_fxe_wKZv"
      },
      "execution_count": null,
      "outputs": []
    },
    {
      "cell_type": "code",
      "source": [
        "filepath2 = os.path.join(PROJECT_ROOT_DIR, 'reps_compiled_l06.pkl')\n",
        "dataset2 = load_data(filepath2)\n",
        "print({k: v for k, v in sorted(dataset2.items(), key=lambda item: item[1], reverse=True)})"
      ],
      "metadata": {
        "colab": {
          "base_uri": "https://localhost:8080/"
        },
        "id": "J7VqxHk-wZ2v",
        "outputId": "c86d731a-73b4-472c-b19a-67583f050d0f"
      },
      "execution_count": 37,
      "outputs": [
        {
          "output_type": "stream",
          "name": "stdout",
          "text": [
            "{Seq('GCGCGC'): 152, Seq('CGCGCG'): 151, Seq('GCCGCG'): 147, Seq('GCGCCG'): 135, Seq('CGCGGC'): 131, Seq('CGGCCG'): 123, Seq('CGCCGC'): 119, Seq('GCCGGC'): 117, Seq('GCGCGG'): 113, Seq('CGGCGC'): 107, Seq('GCGGCG'): 105, Seq('CCGCGC'): 104, Seq('CGCCGA'): 103, Seq('GCGACG'): 103, Seq('GCGCGA'): 101, Seq('CGCGCC'): 99, Seq('GGCGCG'): 98, Seq('CGCGAC'): 97, Seq('TCGCGC'): 95, Seq('CGACGC'): 95, Seq('CGGCGA'): 94, Seq('CGCGCA'): 92, Seq('CGACGA'): 92, Seq('TCGGCG'): 91, Seq('CCGGCG'): 89, Seq('TCGTCG'): 88, Seq('CGATCG'): 88, Seq('TGCGCG'): 87, Seq('TCGCCG'): 87, Seq('GCGGCC'): 86, Seq('GCCGCC'): 86, Seq('CGAGCG'): 86, Seq('GGCCGC'): 85, Seq('GCCGAC'): 81, Seq('GCGCTG'): 80, Seq('CGCCGG'): 80, Seq('CGCTCG'): 79, Seq('CGTCGC'): 79, Seq('GGCGGC'): 78, Seq('GCGATC'): 78, Seq('CCGCCG'): 78, Seq('ATCGCG'): 78, Seq('CGCGAT'): 77, Seq('CCGGCC'): 77, Seq('GCGTCG'): 76, Seq('CCGCGA'): 76, Seq('GATCGC'): 74, Seq('TCGACG'): 73, Seq('CCGACG'): 71, Seq('CGGCGT'): 70, Seq('GTCGCG'): 70, Seq('CGGCGG'): 70, Seq('AGCGCG'): 70, Seq('CGTGCG'): 70, Seq('CGTCGA'): 70, Seq('CGATGC'): 68, Seq('CGCGCT'): 67, Seq('GGCCGG'): 66, Seq('GTCGGC'): 65, Seq('CTCGCG'): 64, Seq('CGCTGC'): 64, Seq('CGACGG'): 62, Seq('GACGGC'): 62, Seq('TCGCGA'): 62, Seq('CGGTCG'): 62, Seq('TGCCGC'): 62, Seq('ACGCGC'): 62, Seq('TGCTGC'): 62, Seq('GCCGAT'): 62, Seq('CGCGGT'): 61, Seq('GCGAGC'): 61, Seq('CGGGCG'): 60, Seq('ACGCCG'): 60, Seq('CGCGTG'): 60, Seq('GCACGC'): 60, Seq('CGCGAG'): 60, Seq('TGGCCG'): 60, Seq('GCTCGC'): 59, Seq('CTGCCG'): 59, Seq('CGCCCG'): 59, Seq('GGCCGA'): 59, Seq('CGTCGT'): 59, Seq('CAGCGC'): 58, Seq('GCATCG'): 58, Seq('GCTCGA'): 57, Seq('GCGGGC'): 57, Seq('TCGAGC'): 57, Seq('CGCCGT'): 57, Seq('ACGGCG'): 56, Seq('TGCCGG'): 56, Seq('GCGGCA'): 56, Seq('ACGCGA'): 56, Seq('CGCGAA'): 55, Seq('GCAGCG'): 55, Seq('CGTCGG'): 53, Seq('CGCACG'): 53, Seq('CACGCG'): 53, Seq('GATGCG'): 53, Seq('GCCGTC'): 53, Seq('CCGTCG'): 53, Seq('GATCGA'): 53, Seq('TCGGGC'): 52, Seq('GCGTGC'): 52, Seq('GCCCGC'): 52, Seq('CTCGGC'): 51, Seq('GCGCAG'): 51, Seq('GTCGAG'): 51, Seq('GACGCG'): 51, Seq('GTGCCG'): 51, Seq('GCCGAG'): 51, Seq('CGACCG'): 51, Seq('CGGCAC'): 50, Seq('GAGCGC'): 50, Seq('TGCCGA'): 50, Seq('ACGTCG'): 49, Seq('GGCGAT'): 49, Seq('CGGCCA'): 49, Seq('GCTGCC'): 49, Seq('CGAGCA'): 49, Seq('GGCGAC'): 48, Seq('CTCGAC'): 48, Seq('CGCAGC'): 48, Seq('CCGTGC'): 47, Seq('TCGGCA'): 47, Seq('GCTGCG'): 47, Seq('GCCGTG'): 47, Seq('CCGAGC'): 47, Seq('GCGCAT'): 47, Seq('GCTCGG'): 46, Seq('ACCGCG'): 46, Seq('CCGCGT'): 46, Seq('GCCCGA'): 46, Seq('GGCACG'): 46, Seq('TCGGCC'): 46, Seq('GGCCGT'): 46, Seq('TTCGCG'): 45, Seq('CGGTGC'): 45, Seq('GCCGGT'): 45, Seq('CGCATC'): 45, Seq('TCGATC'): 45, Seq('CGATCA'): 45, Seq('TGATCG'): 45, Seq('AGCCGC'): 45, Seq('CGACGT'): 44, Seq('CGTGCC'): 44, Seq('ATCGGC'): 44, Seq('TGCTCG'): 44, Seq('CGGCAT'): 44, Seq('CATCGC'): 44, Seq('AGGCCG'): 43, Seq('GGCGTG'): 43, Seq('GTGTCG'): 43, Seq('CCCGGC'): 43, Seq('GCGTGG'): 43, Seq('CCGGCA'): 43, Seq('GGTCGC'): 43, Seq('CTGCGC'): 43, Seq('CGAAGC'): 43, Seq('ATGCGC'): 43, Seq('CGAGCC'): 43, Seq('GTCGCC'): 43, Seq('GCGTGA'): 43, Seq('GGCGCC'): 42, Seq('GCGGTC'): 42, Seq('GGCTCG'): 42, Seq('ATGCCG'): 42, Seq('AGCGTG'): 42, Seq('GCGCGT'): 42, Seq('TGGCGC'): 42, Seq('GCGAAC'): 41, Seq('GCGGTG'): 41, Seq('GTCGAC'): 41, Seq('ATCGTC'): 41, Seq('GACGCC'): 41, Seq('GCGCAC'): 41, Seq('CACGCC'): 40, Seq('TTGCCG'): 40, Seq('GTGCGC'): 40, Seq('ATCGAC'): 40, Seq('GCACCG'): 40, Seq('GCCGAA'): 40, Seq('CCGATC'): 40, Seq('GCGACC'): 40, Seq('TTCGGC'): 39, Seq('CGGCAA'): 39, Seq('CAGCAG'): 39, Seq('AGCAGC'): 39, Seq('CAGCGT'): 39, Seq('CGCGTC'): 39, Seq('ACGCGG'): 39, Seq('GACCGC'): 39, Seq('CCGCGG'): 39, Seq('GGCATC'): 39, Seq('GATCGT'): 39, Seq('CACGGC'): 39, Seq('AAGCCG'): 39, Seq('CCGGGC'): 39, Seq('CGATCC'): 39, Seq('TCGCGT'): 38, Seq('GCGCTC'): 38, Seq('TCGACA'): 38, Seq('TCAGCG'): 38, Seq('CGGATC'): 38, Seq('GGCGCT'): 38, Seq('AGATCG'): 38, Seq('ATCGCC'): 38, Seq('GAACGC'): 38, Seq('GCCGGG'): 38, Seq('GCAGCA'): 37, Seq('GCACGA'): 37, Seq('TCACGC'): 37, Seq('GGTCGA'): 37, Seq('CGGCCC'): 37, Seq('CCCGCG'): 37, Seq('TTCGCC'): 37, Seq('CGGCAG'): 37, Seq('CCGACC'): 37, Seq('GCAGGC'): 36, Seq('CGGGCT'): 36, Seq('GGCGTC'): 36, Seq('CGTTCG'): 36, Seq('GCACGG'): 36, Seq('GCCGCT'): 36, Seq('CCGCTG'): 36, Seq('CCGGAT'): 36, Seq('GACGAC'): 36, Seq('CCGAAC'): 36, Seq('GTCGAT'): 36, Seq('ACGGCC'): 36, Seq('CTCGTC'): 36, Seq('CGCGTT'): 35, Seq('CGAACA'): 35, Seq('GCCTGC'): 35, Seq('TGCGGC'): 35, Seq('GGGCGA'): 35, Seq('GATCAC'): 35, Seq('GATGCC'): 34, Seq('GGCGGG'): 34, Seq('GATCAG'): 34, Seq('GCCGGA'): 34, Seq('CTGGCG'): 34, Seq('CGCGGA'): 34, Seq('GCTGCA'): 34, Seq('CGGGCA'): 33, Seq('TGCCCG'): 33, Seq('CGGCTT'): 33, Seq('GATCGG'): 33, Seq('GCTTCG'): 33, Seq('TCCGGC'): 33, Seq('GCAGCC'): 33, Seq('TCGCCA'): 33, Seq('GCCCGG'): 32, Seq('GGGCGC'): 32, Seq('CGCCAG'): 32, Seq('GCCAGC'): 32, Seq('TCCGCG'): 32, Seq('CGGACG'): 32, Seq('TGTCGA'): 32, Seq('GGCCCG'): 32, Seq('TACGCG'): 32, Seq('CTGGCC'): 32, Seq('TCGATG'): 32, Seq('AACGCG'): 32, Seq('AGCCGG'): 32, Seq('GACGAA'): 32, Seq('GCGTTC'): 31, Seq('AGCGCC'): 31, Seq('GCCACG'): 31, Seq('GAAGCG'): 31, Seq('CGCGGG'): 31, Seq('GGCTGC'): 31, Seq('GACGAT'): 31, Seq('GCGAAG'): 31, Seq('GAAGCC'): 31, Seq('TTGCGC'): 31, Seq('GGATCG'): 31, Seq('CGCTGA'): 30, Seq('CGATCT'): 30, Seq('CGGCCT'): 30, Seq('TGCGCA'): 30, Seq('GTGCGG'): 30, Seq('ACGACC'): 30, Seq('ACATCG'): 30, Seq('GCATCA'): 30, Seq('GCGCCC'): 30, Seq('CATCGA'): 30, Seq('CACCGC'): 30, Seq('CCGGTC'): 30, Seq('GCTCGT'): 30, Seq('GGGCCG'): 30, Seq('CAGGCG'): 30, Seq('CGTTGC'): 29, Seq('CAGGCC'): 29, Seq('CGTGTC'): 29, Seq('GTTCGC'): 29, Seq('GGCGAA'): 29, Seq('AGCCCG'): 29, Seq('CGTGCA'): 29, Seq('GTCGAA'): 29, Seq('CGCATG'): 29, Seq('CCACGC'): 29, Seq('CGGCTG'): 29, Seq('CGAACC'): 29, Seq('GGCAGC'): 29, Seq('TCGAAC'): 29, Seq('GAGCCG'): 29, Seq('TCCTGC'): 29, Seq('ATCACC'): 29, Seq('GCGTGT'): 28, Seq('ACGTGC'): 28, Seq('CAGCAC'): 28, Seq('AGCACG'): 28, Seq('ATCAGC'): 28, Seq('CGGGCC'): 28, Seq('CACGAC'): 28, Seq('GTCACG'): 28, Seq('CGACAG'): 28, Seq('CTTCGC'): 28, Seq('GGTCGG'): 28, Seq('ATCGAG'): 28, Seq('CGCCAT'): 28, Seq('CACCGG'): 28, Seq('GCCTCG'): 28, Seq('GAGCAG'): 28, Seq('GGGCGG'): 27, Seq('GTTCGG'): 27, Seq('TCGAGG'): 27, Seq('GCTGGT'): 27, Seq('CCTCGA'): 27, Seq('CGAGAT'): 27, Seq('AGCGGC'): 27, Seq('GCGTTG'): 26, Seq('GCGCCA'): 26, Seq('ATGCGG'): 26, Seq('CCCGAC'): 26, Seq('GCGGAT'): 26, Seq('GGGCTG'): 26, Seq('GCCGTT'): 26, Seq('AGCGTC'): 26, Seq('CCGCCC'): 26, Seq('GTTGCC'): 26, Seq('ATGTCG'): 26, Seq('GAGCGT'): 26, Seq('CATCGT'): 26, Seq('GGCGAG'): 26, Seq('CAGCCG'): 26, Seq('CGCAAC'): 25, Seq('CCGCAT'): 25, Seq('GTCGGG'): 25, Seq('TGTCGT'): 25, Seq('CACGAT'): 25, Seq('AGCTCG'): 25, Seq('CGACAT'): 25, Seq('CAGGTC'): 25, Seq('GCAGGT'): 25, Seq('GCCCGT'): 25, Seq('CCGATG'): 25, Seq('CCCGCC'): 25, Seq('TGCGTG'): 25, Seq('CCTGCC'): 25, Seq('GTGGCG'): 25, Seq('GACGTC'): 25, Seq('CGAGCT'): 25, Seq('TCAGGC'): 25, Seq('ACGGCT'): 25, Seq('TGCCGT'): 25, Seq('CGGCTC'): 24, Seq('CCGGCT'): 24, Seq('TGCAGC'): 24, Seq('GCGACA'): 24, Seq('AGGTCG'): 24, Seq('CGAGGC'): 24, Seq('TCATCG'): 24, Seq('CATGCG'): 24, Seq('CGCACC'): 24, Seq('CGCCTG'): 24, Seq('TGCACG'): 24, Seq('GAGATC'): 24, Seq('GCCATC'): 24, Seq('ACGGCA'): 24, Seq('GTCGCA'): 24, Seq('AACGGC'): 24, Seq('TGTTCG'): 24, Seq('GGCTTC'): 23, Seq('TTCAGC'): 23, Seq('CCAGCA'): 23, Seq('GCGGCT'): 23, Seq('CGGTCA'): 23, Seq('GCGAGA'): 23, Seq('TTCGAC'): 23, Seq('GCGTCA'): 23, Seq('TCCTCG'): 23, Seq('ACGAAG'): 23, Seq('CTCGAT'): 23, Seq('GCGCAA'): 22, Seq('GCAACG'): 22, Seq('GATCTC'): 22, Seq('CTCGGG'): 22, Seq('GCTTGC'): 22, Seq('CATCGG'): 22, Seq('ATGGCG'): 22, Seq('AGGCGG'): 22, Seq('GTTGCG'): 22, Seq('GGTGCC'): 22, Seq('CGACAC'): 22, Seq('TCGCCC'): 22, Seq('GACAGC'): 22, Seq('ACAGCG'): 22, Seq('CCGCCT'): 22, Seq('CTGCAC'): 22, Seq('CGTCAC'): 22, Seq('GTGGCC'): 22, Seq('TGTCGC'): 21, Seq('GGCCTG'): 21, Seq('CGGTGA'): 21, Seq('CACGCA'): 21, Seq('GGCCAG'): 21, Seq('GGCCAC'): 21, Seq('ATTCGC'): 21, Seq('CGCTGT'): 21, Seq('GCACGT'): 21, Seq('GGCTGG'): 21, Seq('TGCGCC'): 21, Seq('TGGCGG'): 21, Seq('GAGGCC'): 21, Seq('GAACAG'): 21, Seq('GATCCT'): 21, Seq('TGCGGT'): 20, Seq('CTCGAA'): 20, Seq('GTTCGA'): 20, Seq('GTCGTT'): 20, Seq('AAGCGC'): 20, Seq('TGTCGG'): 20, Seq('GAACCG'): 20, Seq('GCATGC'): 20, Seq('ACCTCG'): 20, Seq('GCGGAC'): 20, Seq('ACGCAC'): 20, Seq('TGAAGC'): 20, Seq('GGTCGT'): 20, Seq('CCTTCG'): 20, Seq('CAGCGA'): 20, Seq('CGATGA'): 20, Seq('CAGCGG'): 20, Seq('GATGAT'): 20, Seq('CGTGGA'): 20, Seq('CTTCCT'): 20, Seq('ATTGCG'): 20, Seq('CTTCGA'): 20, Seq('CCTGCA'): 20, Seq('GACGTG'): 19, Seq('GGCAGG'): 19, Seq('TGACGC'): 19, Seq('GACGCT'): 19, Seq('AACACG'): 19, Seq('GGTGCG'): 19, Seq('GGGGCG'): 19, Seq('CAGGTG'): 19, Seq('TTGTCG'): 19, Seq('TCGTTC'): 19, Seq('ACGATG'): 19, Seq('CCGGTG'): 19, Seq('TGAGCG'): 19, Seq('GGTTCG'): 19, Seq('CGAATC'): 19, Seq('CCGGAC'): 19, Seq('CGAACT'): 19, Seq('TGCAGG'): 18, Seq('GTGACG'): 18, Seq('TTCGTC'): 18, Seq('ACACGC'): 18, Seq('GAATGC'): 18, Seq('ACCAGC'): 18, Seq('GACATC'): 18, Seq('TCGAAG'): 18, Seq('GTACGC'): 18, Seq('GAGCAC'): 18, Seq('TGCTGG'): 18, Seq('GCCTTC'): 18, Seq('CATGTC'): 18, Seq('CAGCCC'): 18, Seq('CCATCA'): 18, Seq('AGCAGG'): 18, Seq('CCGCAC'): 18, Seq('CGCCCA'): 18, Seq('TGACGG'): 17, Seq('TCGGCT'): 17, Seq('CAGTTC'): 17, Seq('GACCGT'): 17, Seq('CGCAAG'): 17, Seq('CGTGAC'): 17, Seq('GCGAAT'): 17, Seq('GGCGGT'): 17, Seq('CCAGGT'): 17, Seq('CTTCGG'): 17, Seq('GCTGTC'): 17, Seq('GGATCA'): 17, Seq('CAGCTC'): 17, Seq('TCGGTG'): 17, Seq('CAGATC'): 17, Seq('CCGTTG'): 17, Seq('CGTCAG'): 17, Seq('GGATGC'): 17, Seq('AGTTGC'): 17, Seq('TCTCGA'): 17, Seq('CTCGAG'): 17, Seq('GAGCTG'): 17, Seq('TCAGCA'): 17, Seq('CAGCAT'): 17, Seq('GGCCAT'): 17, Seq('GCCATG'): 17, Seq('AGCGAC'): 17, Seq('GGGCAG'): 16, Seq('TTCGAT'): 16, Seq('ATTTCG'): 16, Seq('TTTCGC'): 16, Seq('TGAACA'): 16, Seq('GAGCCC'): 16, Seq('GGCAAC'): 16, Seq('ATGCTG'): 16, Seq('AGGCGC'): 16, Seq('GGCGTT'): 16, Seq('GCAGCT'): 16, Seq('GCGGGG'): 16, Seq('AGCTGG'): 16, Seq('CACGTC'): 16, Seq('CCCGCA'): 16, Seq('GCCTGG'): 16, Seq('ACTTCG'): 16, Seq('TTCCGG'): 16, Seq('CGGTGT'): 16, Seq('ATGATC'): 16, Seq('GCTGAC'): 15, Seq('ACCGTG'): 15, Seq('CGCATT'): 15, Seq('AATGCG'): 15, Seq('GACGTT'): 15, Seq('GGCGGA'): 15, Seq('CGATGT'): 15, Seq('TTCTCG'): 15, Seq('TTCCGC'): 15, Seq('TCTTCG'): 15, Seq('ATGACG'): 15, Seq('GTGCGT'): 15, Seq('GTCCGG'): 15, Seq('GACGCA'): 15, Seq('TGACGA'): 15, Seq('CGTACG'): 15, Seq('TTGCGG'): 15, Seq('AGCATC'): 15, Seq('CGAAGT'): 15, Seq('GTTGTC'): 15, Seq('ACGCGT'): 15, Seq('GTCAGC'): 15, Seq('ATCCGC'): 15, Seq('GGTGCT'): 15, Seq('ATCAGG'): 15, Seq('CGATAC'): 15, Seq('ATCTTC'): 15, Seq('ACCGGA'): 15, Seq('CGCCTC'): 15, Seq('CCAGCC'): 15, Seq('GAGCGG'): 15, Seq('CGACCC'): 15, Seq('CTGACG'): 14, Seq('ACGGGC'): 14, Seq('CGGTGG'): 14, Seq('CTGCGG'): 14, Seq('AACGCC'): 14, Seq('AGTCGA'): 14, Seq('GTCGCT'): 14, Seq('GCTGAA'): 14, Seq('GCTGTT'): 14, Seq('CATCCG'): 14, Seq('TTGCTG'): 14, Seq('GACCAT'): 14, Seq('ATGGGC'): 14, Seq('ATCGGG'): 14, Seq('CGGATG'): 14, Seq('ATGCAG'): 14, Seq('TGCGAT'): 14, Seq('GACCAC'): 14, Seq('AGTTCG'): 13, Seq('GGGCTC'): 13, Seq('CGAATG'): 13, Seq('CAACGT'): 13, Seq('GTGCAG'): 13, Seq('GCATGG'): 13, Seq('TGCGGG'): 13, Seq('TCGCAC'): 13, Seq('ACGCAG'): 13, Seq('TTTCCG'): 13, Seq('ATCCCG'): 13, Seq('CAACGC'): 13, Seq('GGTTGC'): 13, Seq('CACGTG'): 13, Seq('ATGGCC'): 13, Seq('CGGTTG'): 13, Seq('CTGGTA'): 13, Seq('GCCCTG'): 13, Seq('CGAGGT'): 13, Seq('ACGCAT'): 13, Seq('ATACGC'): 13, Seq('GCGGAG'): 13, Seq('CCGAAG'): 13, Seq('AACCGG'): 13, Seq('GTGCTC'): 13, Seq('TCAGCC'): 13, Seq('CGTACA'): 13, Seq('GTCTCG'): 13, Seq('CGCCCC'): 13, Seq('CCCGCT'): 13, Seq('CGACTG'): 12, Seq('GGACCG'): 12, Seq('CGTGGG'): 12, Seq('CTTGCC'): 12, Seq('TGCGTC'): 12, Seq('CGACAA'): 12, Seq('GTGAAG'): 12, Seq('GTGAGC'): 12, Seq('AACGTG'): 12, Seq('CACGGT'): 12, Seq('GGTGGC'): 12, Seq('TCTGCG'): 12, Seq('TGCGGA'): 12, Seq('TCACGT'): 12, Seq('CGAGAA'): 12, Seq('CGCGTA'): 12, Seq('CATCAT'): 12, Seq('TGGATG'): 12, Seq('CCTGGT'): 12, Seq('CGTTCT'): 12, Seq('GTACGA'): 12, Seq('CGTTGT'): 12, Seq('CGGTTC'): 12, Seq('AGGGCG'): 12, Seq('TTGACG'): 12, Seq('GTCGTA'): 12, Seq('GAATCG'): 12, Seq('GAACAT'): 12, Seq('AACATC'): 12, Seq('AGCCGT'): 12, Seq('ATCCTC'): 12, Seq('GTTGCT'): 12, Seq('AGCACC'): 12, Seq('CGAAGA'): 12, Seq('CGGACC'): 12, Seq('TCGTCC'): 12, Seq('AGCTGC'): 12, Seq('ACCCGC'): 12, Seq('CCACGG'): 12, Seq('TTCCAG'): 11, Seq('GACCTC'): 11, Seq('GTGCCC'): 11, Seq('CTCCGC'): 11, Seq('TCGCAA'): 11, Seq('ACGTTC'): 11, Seq('CAGGCT'): 11, Seq('GGCCTT'): 11, Seq('GTTCTG'): 11, Seq('GATGCA'): 11, Seq('ATCATC'): 11, Seq('TGCATG'): 11, Seq('CTGGTG'): 11, Seq('GCGGTT'): 11, Seq('TCGTAC'): 11, Seq('TGGAAC'): 11, Seq('GATCCC'): 11, Seq('CCTCGG'): 11, Seq('ACGCCT'): 11, Seq('AGGCGA'): 11, Seq('CACCAG'): 11, Seq('GCGGGA'): 11, Seq('TTGCAG'): 10, Seq('AACGAC'): 10, Seq('TGGGGC'): 10, Seq('GCCAGT'): 10, Seq('AACCGC'): 10, Seq('GCGTCC'): 10, Seq('CGTCCA'): 10, Seq('ACGTGA'): 10, Seq('CGTGAG'): 10, Seq('CGGATT'): 10, Seq('ACAACG'): 10, Seq('GGTCAC'): 10, Seq('GCGTAC'): 10, Seq('ACGACA'): 10, Seq('CATCAG'): 10, Seq('ACACGG'): 10, Seq('TCCGCC'): 10, Seq('GGTACG'): 10, Seq('ACTGGC'): 10, Seq('TCGAAT'): 10, Seq('TCGACT'): 10, Seq('CACTTC'): 10, Seq('GAAGTC'): 10, Seq('TCCCGC'): 10, Seq('TCACGG'): 10, Seq('ATGGTC'): 10, Seq('TCGGGT'): 10, Seq('GCCCAT'): 10, Seq('ACCACC'): 10, Seq('TAGCCG'): 10, Seq('GTTGCA'): 9, Seq('AGCCAG'): 9, Seq('GTTCCA'): 9, Seq('CTGACC'): 9, Seq('TTTCGT'): 9, Seq('GGGGCT'): 9, Seq('GGCTTG'): 9, Seq('GTTCCG'): 9, Seq('GTCTTC'): 9, Seq('GGTGTC'): 9, Seq('CGTTGA'): 9, Seq('TCGCTG'): 9, Seq('CCGGTT'): 9, Seq('TCGTAG'): 9, Seq('TGGTGC'): 9, Seq('GAGCCA'): 9, Seq('TTCTGC'): 9, Seq('GTGCGA'): 9, Seq('TCGCTC'): 9, Seq('GCTGGA'): 9, Seq('CCCAGT'): 9, Seq('ACCATC'): 9, Seq('ACGGTG'): 9, Seq('GATACG'): 9, Seq('TTCATC'): 9, Seq('ACAGCA'): 9, Seq('AGCCAC'): 9, Seq('GAAACG'): 9, Seq('GATCTT'): 9, Seq('GACAGG'): 9, Seq('CCATGA'): 9, Seq('GATGTC'): 9, Seq('CCATGT'): 9, Seq('TTCCTC'): 9, Seq('TGCTTG'): 9, Seq('TGTGGG'): 8, Seq('GTGGGG'): 8, Seq('AGGATC'): 8, Seq('TATGCG'): 8, Seq('TTTCGG'): 8, Seq('TCGAAA'): 8, Seq('CCAGTT'): 8, Seq('TCCGAC'): 8, Seq('TTCGCA'): 8, Seq('CCGTGA'): 8, Seq('ATGCGT'): 8, Seq('CAACCG'): 8, Seq('TCCAGG'): 8, Seq('GGTGAA'): 8, Seq('ACTGCC'): 8, Seq('CGCAAT'): 8, Seq('GCGTAT'): 8, Seq('CCCGTG'): 8, Seq('GCCAGA'): 8, Seq('CTTGTC'): 8, Seq('CCTTCA'): 8, Seq('CGGAGA'): 8, Seq('AGAACG'): 8, Seq('AGCCCC'): 8, Seq('CGGGTG'): 8, Seq('AAGTCG'): 8, Seq('CAGTTG'): 8, Seq('ACCGGT'): 8, Seq('AGATCC'): 8, Seq('CCATCT'): 8, Seq('CCTTGC'): 8, Seq('GAATCC'): 8, Seq('GGTTGT'): 8, Seq('CAGGAT'): 8, Seq('AGCGGG'): 8, Seq('GCCCCA'): 8, Seq('CGCTTT'): 8, Seq('CGCCAA'): 7, Seq('GGCAAT'): 7, Seq('GTCGGA'): 7, Seq('AATCGG'): 7, Seq('GGATGT'): 7, Seq('TGTACG'): 7, Seq('TTCCAC'): 7, Seq('TGTTCT'): 7, Seq('CTTCAG'): 7, Seq('AGACGC'): 7, Seq('ACACGT'): 7, Seq('CACGTA'): 7, Seq('TACAGC'): 7, Seq('CCCATG'): 7, Seq('TGTGCG'): 7, Seq('TCTTCC'): 7, Seq('GCGATA'): 7, Seq('ACGAAT'): 7, Seq('CCTGAC'): 6, Seq('TCTCGG'): 6, Seq('GCCAAC'): 6, Seq('CTATGC'): 6, Seq('AAAGCC'): 6, Seq('AGTTCC'): 6, Seq('ATTCAG'): 6, Seq('TCAGTT'): 6, Seq('TACGTC'): 6, Seq('GGGCCA'): 6, Seq('GCTTGA'): 6, Seq('TTGACC'): 6, Seq('TGACCT'): 6, Seq('ACGTTG'): 6, Seq('TATTCG'): 6, Seq('CGCCCT'): 6, Seq('TTGCTC'): 6, Seq('GAGCAT'): 6, Seq('GAAGAA'): 6, Seq('GTTGAC'): 6, Seq('GTATCG'): 6, Seq('CGTAGA'): 6, Seq('TTTCAG'): 6, Seq('CCCCAG'): 6, Seq('CTTTGC'): 6, Seq('TTCTTC'): 6, Seq('CTTCAT'): 6, Seq('GCATAC'): 6, Seq('ACGAAA'): 6, Seq('ATAGCC'): 6, Seq('TTGCGA'): 6, Seq('GCAGTG'): 6, Seq('AGGCTG'): 6, Seq('TCACCA'): 6, Seq('CCAGAT'): 6, Seq('CGTCTC'): 6, Seq('GGATGG'): 6, Seq('ATGCCC'): 6, Seq('GTGTGG'): 5, Seq('TACGTG'): 5, Seq('GCAATT'): 5, Seq('AATTTC'): 5, Seq('ATGGTG'): 5, Seq('GGACGT'): 5, Seq('CCAGTA'): 5, Seq('TTGAGC'): 5, Seq('GCCTTT'): 5, Seq('CAGTGC'): 5, Seq('CGGTCC'): 5, Seq('CGAAAT'): 5, Seq('ATAGGC'): 5, Seq('TCCACG'): 5, Seq('GAACTT'): 5, Seq('AACTTG'): 5, Seq('TGGCCT'): 5, Seq('TAGACG'): 5, Seq('GAGGGC'): 5, Seq('AATCGA'): 5, Seq('TGACCA'): 5, Seq('AAACGA'): 5, Seq('CAATGG'): 5, Seq('GTAATG'): 5, Seq('AATGGC'): 5, Seq('CAGCAA'): 5, Seq('GTCCAT'): 5, Seq('CGCACA'): 5, Seq('CGGTCT'): 4, Seq('CTTTCG'): 4, Seq('GGCTCC'): 4, Seq('AAGCCT'): 4, Seq('CTACGT'): 4, Seq('GGGCTT'): 4, Seq('GACAAC'): 4, Seq('GTCCAG'): 4, Seq('TGAAGT'): 4, Seq('GAAGTA'): 4, Seq('AGTACG'): 4, Seq('TACACG'): 4, Seq('TCGCTT'): 4, Seq('CATGGT'): 4, Seq('TGGTGT'): 4, Seq('CAGTAC'): 4, Seq('AGTACC'): 4, Seq('GTACCA'): 4, Seq('TTCGCT'): 4, Seq('TGCGTA'): 4, Seq('TATGGC'): 4, Seq('AGACCG'): 4, Seq('AGAACC'): 4, Seq('CAGCTG'): 4, Seq('CTGGTT'): 4, Seq('TGGTTG'): 4, Seq('TAGTCG'): 4, Seq('CGGTAT'): 4, Seq('TGGTAC'): 4, Seq('CTGGAT'): 4, Seq('CTTGCT'): 4, Seq('ACATGC'): 4, Seq('TATAGG'): 4, Seq('GAAATA'): 4, Seq('GAATTT'): 4, Seq('TGGTTC'): 4, Seq('CGAATA'): 4, Seq('ATGTTC'): 4, Seq('CAGGTA'): 4, Seq('AGCACT'): 4, Seq('GCCCTT'): 4, Seq('TTGAAG'): 4, Seq('GGAGGG'): 4, Seq('GGGTGC'): 4, Seq('ACGTCA'): 4, Seq('CATCTG'): 4, Seq('GCCTTG'): 4, Seq('GTCAGG'): 4, Seq('CCATGG'): 4, Seq('CATCTT'): 4, Seq('GGTGTG'): 4, Seq('CCCACG'): 4, Seq('GTTTCC'): 4, Seq('AGTCCG'): 4, Seq('GAAAAG'): 4, Seq('AAAAGA'): 4, Seq('TGTTTC'): 4, Seq('TGTGCA'): 4, Seq('ACAGCT'): 4, Seq('AGTCGG'): 4, Seq('CCACCT'): 4, Seq('GCACAG'): 4, Seq('TGATAG'): 4, Seq('GTACGT'): 3, Seq('TTTTCC'): 3, Seq('AACCGA'): 3, Seq('CGTAGT'): 3, Seq('GTAGTC'): 3, Seq('TACTGG'): 3, Seq('GTACAG'): 3, Seq('AGGTAC'): 3, Seq('GTACTG'): 3, Seq('AAGCCC'): 3, Seq('CCCTTG'): 3, Seq('GGTAGT'): 3, Seq('TCCACA'): 3, Seq('ACGTAG'): 3, Seq('TACGAA'): 3, Seq('TCGTTT'): 3, Seq('CGTTTT'): 3, Seq('CGTATA'): 3, Seq('AATGGT'): 3, Seq('CGGGTA'): 3, Seq('CCTTGT'): 3, Seq('CACAGG'): 3, Seq('CGTGTG'): 2, Seq('CAGACC'): 2, Seq('TCTGAT'): 2, Seq('AAGTAC'): 2, Seq('GGATTG'): 2, Seq('GATTGT'): 2, Seq('CTGTCC'): 2, Seq('TATTTC'): 2, Seq('GATGTA'): 2, Seq('ATCTGC'): 2, Seq('ATTTCT'): 2, Seq('TTTCTC'): 2, Seq('GACCTA'): 2, Seq('ACCTAT'): 2, Seq('CCTATG'): 2, Seq('CTTGAC'): 2, Seq('TACCAG'): 2, Seq('GGTATT'): 2, Seq('CGTATG'): 2, Seq('GTATGG'): 2, Seq('GGTCCG'): 2, Seq('GTGTTT'): 2, Seq('GTTTTT'): 2, Seq('GCGTAG'): 2, Seq('CCCTGG'): 2, Seq('ATCGTA'): 2, Seq('GTGCCA'): 2, Seq('TGCCAG'): 2, Seq('TAGGCG'): 2, Seq('AAGAAA'): 2, Seq('TGCGAG'): 2, Seq('GGGTTG'): 2, Seq('ACTTGT'): 2, Seq('TTGTAC'): 2, Seq('TTGGCC'): 2, Seq('GGTACT'): 2, Seq('GGTTCC'): 2, Seq('GCCCCC'): 2, Seq('TAGAGC'): 2, Seq('CTTGAA'): 2, Seq('CGTAGG'): 2, Seq('CGTACT'): 2, Seq('TAGTCC'): 2, Seq('GAAGGT'): 2, Seq('CTCCAC'): 2, Seq('CACATG'): 2, Seq('CGCTCT'): 2, Seq('GCTCTG'): 2, Seq('TCTGGT'): 2, Seq('GTGCTT'): 2, Seq('GCTTTG'): 2, Seq('AGCCCA'): 2, Seq('ATACGT'): 2, Seq('TTACGA'): 2, Seq('AAGAAC'): 2, Seq('AGCAAC'): 2, Seq('ACGTAT'): 2, Seq('GTATAG'): 2, Seq('TTGTGC'): 2, Seq('TGAAAC'): 2, Seq('TAATGG'): 2, Seq('ACTCCT'): 2, Seq('GTAGTA'): 2, Seq('TAGTAC'): 2, Seq('CTTGGC'): 2, Seq('CCACAG'): 2, Seq('GACCCA'): 2, Seq('ACCCAG'): 2, Seq('GCAATG'): 2, Seq('TTTGAC'): 2, Seq('TGTCTT'): 2, Seq('ACAGGC'): 2, Seq('CACGGA'): 2, Seq('ACAGGA'): 2, Seq('AGGATG'): 2, Seq('GGTCTG'): 2, Seq('ATCGTT'): 2, Seq('TTTCCT'): 2, Seq('AGTGCT'): 2, Seq('TGGTAG'): 2, Seq('GTAGAC'): 2, Seq('GCTTTT'): 2, Seq('CTTTTC'): 2, Seq('TTTTGA'): 2, Seq('GTCTCT'): 2, Seq('TCTCTC'): 2, Seq('ACAGGG'): 2}\n"
          ]
        }
      ]
    },
    {
      "cell_type": "markdown",
      "source": [
        "### (09) Find all repeats of length 12 in the input file. Let's use Max to specify the number of copies of the most frequent repeat of length 12.\n",
        "\n",
        "* How many different 12-base sequences occur Max times?"
      ],
      "metadata": {
        "id": "zU7JTw0oxoBl"
      }
    },
    {
      "cell_type": "code",
      "source": [
        "filepath3 = os.path.join(PROJECT_ROOT_DIR, 'reps_compiled_l12.pkl')\n",
        "dataset3 = load_data(filepath3)\n",
        "print({k: v for k, v in sorted(dataset3.items(), key=lambda item: item[1], reverse=True)})"
      ],
      "metadata": {
        "colab": {
          "base_uri": "https://localhost:8080/"
        },
        "id": "5ulJxR6cwy6k",
        "outputId": "cdc2b474-6c89-47b2-db15-5dc8b9166715"
      },
      "execution_count": 38,
      "outputs": [
        {
          "output_type": "stream",
          "name": "stdout",
          "text": [
            "{Seq('TCGTCGGCGATC'): 2, Seq('CGCGGTTCCGCG'): 2, Seq('CTGCCGAACATC'): 2, Seq('TCGATCGCGTCG'): 2, Seq('CGATCGCGTCGG'): 2, Seq('CGACGCCGTCGA'): 2}\n"
          ]
        }
      ]
    },
    {
      "cell_type": "markdown",
      "source": [
        "### (10) Which one of the following repeats of length 7 has a maximum number of occurrences?"
      ],
      "metadata": {
        "id": "lPiw5xOZygKm"
      }
    },
    {
      "cell_type": "code",
      "source": [
        "filepath4 = os.path.join(PROJECT_ROOT_DIR, 'reps_compiled_l07.pkl')\n",
        "dataset4 = load_data(filepath4)\n",
        "print({k : v for k, v in sorted(dataset4.items(), key=lambda item:item[1], reverse=True)})"
      ],
      "metadata": {
        "colab": {
          "base_uri": "https://localhost:8080/"
        },
        "id": "9VJ57JnrS4v-",
        "outputId": "81198712-3eb8-48e4-a6ec-ee90bc12c93e"
      },
      "execution_count": 40,
      "outputs": [
        {
          "output_type": "stream",
          "name": "stdout",
          "text": [
            "{Seq('CGCGCCG'): 59, Seq('CGCCGCG'): 58, Seq('GCCGCGC'): 58, Seq('GCGCGCG'): 58, Seq('GCGCGGC'): 56, Seq('CGCGGCG'): 55, Seq('CGCGACG'): 55, Seq('CGCGCGC'): 53, Seq('CGGCGCG'): 49, Seq('GCCGCCG'): 49, Seq('GCGGCCG'): 46, Seq('GCGCCGC'): 45, Seq('CGGCCGC'): 43, Seq('CGCGCGG'): 42, Seq('CGCGGCC'): 41, Seq('GGCGCGC'): 40, Seq('GCGCGCC'): 40, Seq('GCCGGCG'): 39, Seq('CGGCGGC'): 39, Seq('GATCGCG'): 39, Seq('GCTGCCG'): 38, Seq('CGCCGGC'): 37, Seq('GCCGGCC'): 37, Seq('CCGGCCG'): 37, Seq('CGTCGCG'): 37, Seq('CGACGGC'): 36, Seq('GCGCCGA'): 36, Seq('CGAGCGC'): 35, Seq('GCGATCG'): 34, Seq('CGACGCG'): 34, Seq('GCCGAGC'): 34, Seq('GCCGACG'): 34, Seq('CGCGATC'): 33, Seq('GCTCGCG'): 33, Seq('CGCGAGC'): 33, Seq('TGCGCGC'): 33, Seq('CGATCGC'): 33, Seq('TCGGCGA'): 32, Seq('CGGCACG'): 32, Seq('GCGACGC'): 32, Seq('GGCGATC'): 30, Seq('CTGCGCG'): 30, Seq('GCCGATC'): 30, Seq('CGGCGTG'): 29, Seq('CGTCGGC'): 29, Seq('GCGGCGG'): 29, Seq('CAGCGCG'): 29, Seq('CGCCGAC'): 29, Seq('GTGCGCG'): 29, Seq('GGCCGGC'): 28, Seq('GGCGGCG'): 28, Seq('CGGCGAC'): 28, Seq('GCGCTCG'): 28, Seq('CCGCGCG'): 28, Seq('CGTGCCG'): 28, Seq('GCCGTCG'): 28, Seq('GCGGCGC'): 27, Seq('GTCGGCG'): 27, Seq('CGGCCGG'): 27, Seq('CGCTCGC'): 27, Seq('CCGCCGC'): 27, Seq('CGATGCG'): 27, Seq('GCTGCGC'): 27, Seq('CGCGTCG'): 27, Seq('CACGCCG'): 26, Seq('CGGCCCG'): 26, Seq('CGTGCGC'): 26, Seq('TCGTCGC'): 26, Seq('CGGCCGA'): 26, Seq('CGCCGAT'): 26, Seq('ACGCGCG'): 26, Seq('GCGGCGA'): 25, Seq('GCGCGCA'): 25, Seq('GATGCGC'): 25, Seq('CGCGCGA'): 25, Seq('GTCGAGC'): 25, Seq('GGCGACG'): 25, Seq('GCGGTCG'): 25, Seq('GTCGCCG'): 25, Seq('TCGCCGC'): 25, Seq('CGCGGTG'): 25, Seq('GCCGGGC'): 25, Seq('TCGACGA'): 25, Seq('CGACGCC'): 25, Seq('GCCCGGC'): 24, Seq('GCTCGGC'): 24, Seq('TCGCGCG'): 24, Seq('TGCGCGA'): 24, Seq('GAAGCCG'): 24, Seq('GCCGAAC'): 24, Seq('GCGAGCG'): 24, Seq('CGGGCGC'): 23, Seq('GATGCCG'): 23, Seq('ATCGGCG'): 23, Seq('GCGCGAA'): 23, Seq('GCTCGAC'): 23, Seq('CGCGCAG'): 23, Seq('GCGCAGC'): 23, Seq('CGCCGCC'): 23, Seq('CGGCATC'): 23, Seq('GCCGCGT'): 23, Seq('GCGCCGG'): 23, Seq('GCGTGCG'): 23, Seq('CATCGCG'): 23, Seq('CCGCGGC'): 23, Seq('CGTGTCG'): 22, Seq('GTCGCGC'): 22, Seq('CGGCGCC'): 22, Seq('CCGCGCC'): 22, Seq('AGCGCGG'): 22, Seq('GCACGCG'): 22, Seq('GAACGCG'): 22, Seq('GGCGCGG'): 22, Seq('ATCGCGC'): 22, Seq('GATCGTC'): 22, Seq('GACGGCG'): 21, Seq('CGGCGAT'): 21, Seq('GCGGGCG'): 21, Seq('CAGCAGC'): 21, Seq('AGCGCCG'): 21, Seq('CGCGGGC'): 21, Seq('CTCGACG'): 21, Seq('CGCGGTC'): 21, Seq('CGTCGAG'): 21, Seq('CGTCGAC'): 21, Seq('ACGCCGA'): 21, Seq('GAGCGCG'): 21, Seq('CGATCAG'): 21, Seq('GGCCGCC'): 21, Seq('CGTCGCC'): 21, Seq('CGAGCAG'): 21, Seq('TGCCGGC'): 20, Seq('CGCGTGG'): 20, Seq('GTTCGGC'): 20, Seq('TGGCGCG'): 20, Seq('CGCCGTC'): 20, Seq('CGCCGAG'): 20, Seq('CGACGTC'): 20, Seq('TCGTCGA'): 20, Seq('GCGCGGT'): 20, Seq('CGATCGT'): 20, Seq('TCGCGCA'): 19, Seq('GGTCGCG'): 19, Seq('GCGCGAT'): 19, Seq('CGTGCGG'): 19, Seq('CGCACGC'): 19, Seq('CGGCGTC'): 19, Seq('CGGGCTG'): 19, Seq('CCGACGC'): 19, Seq('ATCGTCG'): 19, Seq('TCGCCGA'): 19, Seq('ATCGCGA'): 19, Seq('GCGTCGG'): 18, Seq('AGCGCGA'): 18, Seq('CCGCGCT'): 18, Seq('CGCGCTC'): 18, Seq('GATCAGC'): 18, Seq('CGCATCG'): 18, Seq('TCGCGCC'): 18, Seq('GGCCGAC'): 18, Seq('CCGAGCG'): 18, Seq('CGGCAGC'): 18, Seq('CGACGAA'): 18, Seq('GCCGCGG'): 18, Seq('GACGTCG'): 18, Seq('CGCTCGA'): 17, Seq('CGGCTTC'): 17, Seq('CGGCGCT'): 17, Seq('GACCGCG'): 17, Seq('TGCCGCG'): 17, Seq('GACGCGC'): 17, Seq('TCGCGAG'): 17, Seq('GTTGCCG'): 17, Seq('TGGCCGA'): 17, Seq('CGGATCG'): 17, Seq('TCGATCG'): 17, Seq('CCGGCGT'): 16, Seq('CTCGGCG'): 16, Seq('CGGCTCG'): 16, Seq('TCGCGAT'): 16, Seq('CAGCGTG'): 16, Seq('CGCGTTC'): 16, Seq('CTGCCGG'): 16, Seq('GCCGCTG'): 16, Seq('CGAAGCG'): 16, Seq('TGCGGCC'): 16, Seq('GCCGTGC'): 16, Seq('CCGTCGC'): 16, Seq('TGCCGCC'): 16, Seq('GCGCCCG'): 16, Seq('GTCGATC'): 16, Seq('AGCGTGA'): 16, Seq('CGAGCCG'): 16, Seq('CAGGCCG'): 15, Seq('GCGTGTC'): 15, Seq('CGCGAAC'): 15, Seq('GCGGTGC'): 15, Seq('TTCGGCA'): 15, Seq('CGGCCAG'): 15, Seq('TGCCGGT'): 15, Seq('ATGGCGC'): 15, Seq('CGCCAGC'): 15, Seq('ACGTCGA'): 15, Seq('CGAGCGT'): 15, Seq('CGTCACG'): 15, Seq('AGCGCGC'): 15, Seq('CGATCGA'): 15, Seq('GATCGCC'): 15, Seq('CCGACGG'): 14, Seq('CGCTCGG'): 14, Seq('CTCGGGC'): 14, Seq('CCGCGTG'): 14, Seq('GCCCGAC'): 14, Seq('GGCGGCC'): 14, Seq('CATCGGC'): 14, Seq('CAGGTCG'): 14, Seq('GCGCGAG'): 14, Seq('CGCCCGC'): 14, Seq('GCCCGCC'): 14, Seq('CCACGCG'): 14, Seq('CGCGAAG'): 14, Seq('CAGCGTC'): 14, Seq('GCCCGCG'): 14, Seq('AGCCGGC'): 14, Seq('TCGGCGT'): 14, Seq('TCGAGCG'): 14, Seq('GAGCGTG'): 14, Seq('CGAGATC'): 14, Seq('GGCCGTC'): 14, Seq('CGCGCCA'): 14, Seq('TGATCGC'): 14, Seq('CCGGATC'): 14, Seq('GCGTTGC'): 13, Seq('GCGATCT'): 13, Seq('CGGCGAA'): 13, Seq('GCGGCGT'): 13, Seq('CTGCCGC'): 13, Seq('CCGCCGG'): 13, Seq('TGGCCGG'): 13, Seq('GTACGCG'): 13, Seq('CGCGCCC'): 13, Seq('TCGAGCA'): 13, Seq('GCGCATG'): 13, Seq('CCTGCCG'): 13, Seq('GCGACGG'): 13, Seq('CACGGCG'): 13, Seq('ACGCGGT'): 13, Seq('GAGGCCG'): 13, Seq('GACGCCG'): 13, Seq('GTGGCCG'): 13, Seq('CTCGCGT'): 12, Seq('CGCGCAA'): 12, Seq('GGCTCGA'): 12, Seq('CGGGCGG'): 12, Seq('CCCGACG'): 12, Seq('TTCGGCG'): 12, Seq('CGGTCGC'): 12, Seq('GCAGCAG'): 12, Seq('CAGCACG'): 12, Seq('ACGGCGG'): 12, Seq('CGAGCAC'): 12, Seq('GGTGCCG'): 12, Seq('CGGCTGG'): 12, Seq('GTCGACG'): 12, Seq('CCGCCTG'): 12, Seq('CGAAGCC'): 12, Seq('CGCCGAA'): 12, Seq('CGAACCG'): 12, Seq('TGCTGCC'): 12, Seq('CGCCATC'): 12, Seq('ACGTCGT'): 12, Seq('GATCGAG'): 12, Seq('AGCGTCG'): 12, Seq('GCGGCAA'): 12, Seq('TTGCCGC'): 12, Seq('GTCGGCC'): 12, Seq('GCAGGCG'): 12, Seq('GTGCCGC'): 12, Seq('CGCGTTG'): 11, Seq('CGACGTG'): 11, Seq('CGGGCAG'): 11, Seq('TCGGGCT'): 11, Seq('GCGCCAG'): 11, Seq('TCGTCGG'): 11, Seq('TTCGCGA'): 11, Seq('CGGTGCG'): 11, Seq('TTCAGCG'): 11, Seq('TCAGCGC'): 11, Seq('TTCCGCG'): 11, Seq('CCGCTGC'): 11, Seq('GTCACGC'): 11, Seq('TCACGCC'): 11, Seq('CAGCTCG'): 11, Seq('GGGCGGC'): 11, Seq('GCGAGCC'): 11, Seq('CAGATCG'): 11, Seq('TCGCGAC'): 11, Seq('GCCGTTG'): 11, Seq('GCCTGCC'): 11, Seq('GTTCGCG'): 11, Seq('GACGCGG'): 11, Seq('CTGCCGA'): 11, Seq('CCGCCGA'): 11, Seq('CATCGTC'): 11, Seq('GCACCGG'): 11, Seq('AGCGGCG'): 11, Seq('CTTCGAC'): 11, Seq('GCGGCTG'): 11, Seq('CGTTGCC'): 11, Seq('GAGCCGC'): 11, Seq('TCGGCGG'): 10, Seq('GCTCGGG'): 10, Seq('TTCGTCG'): 10, Seq('CGGCCTG'): 10, Seq('GAATGCG'): 10, Seq('TGCGTCG'): 10, Seq('CTCGACA'): 10, Seq('CGCAGCA'): 10, Seq('GCAGCGT'): 10, Seq('AGCGTGC'): 10, Seq('TCGGCCA'): 10, Seq('CCAGCAC'): 10, Seq('GCCGGTG'): 10, Seq('ATCAGCG'): 10, Seq('GCTGCGG'): 10, Seq('GGCCACG'): 10, Seq('GGCCGTG'): 10, Seq('TCGGTGC'): 10, Seq('ATGGCCG'): 10, Seq('TCGCCCG'): 10, Seq('CCCGCCG'): 10, Seq('TGCGCAT'): 10, Seq('GCACCGC'): 10, Seq('CCGCCCG'): 10, Seq('CGCCGTT'): 10, Seq('GTGGCGG'): 10, Seq('CGGTCGG'): 10, Seq('GCCTTCG'): 10, Seq('GGCCGAT'): 10, Seq('CGTCGCA'): 10, Seq('CGCCTCG'): 10, Seq('ACGCCGT'): 10, Seq('CGAGCGG'): 10, Seq('CCGATCG'): 10, Seq('GTGCGGC'): 10, Seq('CCGGCGG'): 10, Seq('GGCGTGT'): 9, Seq('ATGCGGT'): 9, Seq('CAGTTCG'): 9, Seq('ACGTCGG'): 9, Seq('GTCGGGC'): 9, Seq('CGGGCTC'): 9, Seq('TCGGGCG'): 9, Seq('GCGTGGG'): 9, Seq('CGGCGGG'): 9, Seq('GCGGTGA'): 9, Seq('AGCAGCG'): 9, Seq('GCCAGCA'): 9, Seq('GCACGAT'): 9, Seq('GCGGATC'): 9, Seq('CGCCGCT'): 9, Seq('TGCGGGC'): 9, Seq('GACATCG'): 9, Seq('CTCGGCC'): 9, Seq('GTCGAGG'): 9, Seq('ACGCCGC'): 9, Seq('GCCGGAT'): 9, Seq('GAGCACG'): 9, Seq('TCCGGCC'): 9, Seq('CACGTCG'): 9, Seq('TCGACGT'): 9, Seq('ACGCGGC'): 9, Seq('CGTCAGC'): 9, Seq('TCCGCGC'): 9, Seq('CGAGGCC'): 9, Seq('GAACATC'): 9, Seq('GTGCTCG'): 9, Seq('CGAGCTG'): 9, Seq('GCAGCGA'): 9, Seq('ACCGCGC'): 9, Seq('GCAGCAC'): 9, Seq('GCCTCGA'): 9, Seq('GCACGCC'): 9, Seq('CAGCGGC'): 9, Seq('GCGGCAC'): 9, Seq('GATGATC'): 9, Seq('ATCGAGC'): 9, Seq('AGCACGC'): 9, Seq('TCGAGCC'): 9, Seq('TGCTCGA'): 9, Seq('TCGCGTC'): 9, Seq('CCGTCGA'): 9, Seq('TCGCGTT'): 8, Seq('TGCAGGC'): 8, Seq('AGGCCGG'): 8, Seq('GCGCAAC'): 8, Seq('TGCGGTC'): 8, Seq('CCGTGCC'): 8, Seq('TGCCCGG'): 8, Seq('CGTCGGG'): 8, Seq('CGTGACG'): 8, Seq('GCCGGCT'): 8, Seq('CCGGCCT'): 8, Seq('CGTGAGC'): 8, Seq('GAGCCCG'): 8, Seq('CTTCGGC'): 8, Seq('CGGCAAC'): 8, Seq('AAGCGCG'): 8, Seq('CAGCGCC'): 8, Seq('CGGATCA'): 8, Seq('GGCGGCT'): 8, Seq('GCGGCTT'): 8, Seq('CGGCGTT'): 8, Seq('TGAGCGC'): 8, Seq('CGCTGTC'): 8, Seq('AGGCGGC'): 8, Seq('CCGCGGT'): 8, Seq('GGCTGCG'): 8, Seq('TGCGGCA'): 8, Seq('CGAGCCC'): 8, Seq('CGCCGGA'): 8, Seq('CATCATC'): 8, Seq('CGGTGCC'): 8, Seq('TGGCCGT'): 8, Seq('CAGTTGC'): 8, Seq('TGTCGAG'): 8, Seq('GAACCGG'): 8, Seq('CCGAACA'): 8, Seq('GCCGCCC'): 8, Seq('GATCAGG'): 8, Seq('TCAGGCC'): 8, Seq('GGCCCGC'): 8, Seq('GGCAGCG'): 8, Seq('GCGACAG'): 8, Seq('CGACAGG'): 8, Seq('CACGGCC'): 8, Seq('CCCGCGC'): 8, Seq('ATCGCGT'): 8, Seq('CCTCGAG'): 8, Seq('CGTGCCC'): 7, Seq('GGCTCGG'): 7, Seq('GTTCGAT'): 7, Seq('TTTCGCG'): 7, Seq('TGCTCGC'): 7, Seq('CTTGCCG'): 7, Seq('TTGCCGG'): 7, Seq('CGAATGC'): 7, Seq('GGCGGTG'): 7, Seq('GGTGCGC'): 7, Seq('CCGACGT'): 7, Seq('CGTTCGG'): 7, Seq('TTGTCGT'): 7, Seq('GACGTGC'): 7, Seq('GCGGGCC'): 7, Seq('CACGCGG'): 7, Seq('GGCACGA'): 7, Seq('GGCTGCC'): 7, Seq('CCGCCGT'): 7, Seq('GTTGTCG'): 7, Seq('GCCGAAG'): 7, Seq('GAAGTCG'): 7, Seq('CGGTGCT'): 7, Seq('CTCGAGC'): 7, Seq('TCGAGCT'): 7, Seq('GAGCTGG'): 7, Seq('GATCCCG'): 7, Seq('GATCCTC'): 7, Seq('TTGCTGC'): 7, Seq('GGGCAGC'): 7, Seq('GGCAGCA'): 7, Seq('GCAGCGG'): 7, Seq('GACCACC'): 7, Seq('GCGTGAG'): 7, Seq('CAGCCGG'): 7, Seq('GATGTCG'): 7, Seq('GTGGGGC'): 6, Seq('CTATGCG'): 6, Seq('GTGCCCG'): 6, Seq('CGATCGG'): 6, Seq('GGCTTGC'): 6, Seq('GTCGTTC'): 6, Seq('ACGTGCC'): 6, Seq('GCGTGCA'): 6, Seq('AGCACGA'): 6, Seq('CACGATG'): 6, Seq('ACGTGCG'): 6, Seq('GGCGTTG'): 6, Seq('GCAGCTC'): 6, Seq('GAGCGCC'): 6, Seq('GTCGAAG'): 6, Seq('GGCGCTC'): 6, Seq('GTCCGGC'): 6, Seq('GGGCTGC'): 6, Seq('GCATCAG'): 6, Seq('GACGATG'): 6, Seq('ACGATGC'): 6, Seq('GGTTGCG'): 6, Seq('GTGCCGA'): 6, Seq('GCCGGTT'): 6, Seq('ACGCGCC'): 6, Seq('GCATGCG'): 6, Seq('CCGAGCC'): 6, Seq('CGAGCCA'): 6, Seq('GGCCGGA'): 6, Seq('ACAGCGT'): 6, Seq('GCCCGCA'): 6, Seq('CCGCTGA'): 6, Seq('CGCCTGG'): 6, Seq('CTTCGCC'): 6, Seq('TGAAGCC'): 6, Seq('CGTTGTC'): 6, Seq('CGAAGTC'): 6, Seq('GTGAGCG'): 6, Seq('CCGGTGC'): 6, Seq('ATCCTCG'): 6, Seq('CCGCGTT'): 6, Seq('ATCAGGC'): 6, Seq('TTGCGCA'): 6, Seq('TTCATCG'): 6, Seq('TGCAGCG'): 6, Seq('GATCGGG'): 6, Seq('ATCGGGC'): 6, Seq('CCGGATG'): 6, Seq('ACGATGA'): 6, Seq('TCGGCAG'): 6, Seq('CATCAGC'): 6, Seq('AGCGGCA'): 6, Seq('CAGCAGG'): 6, Seq('CGAATCG'): 6, Seq('TCGCCAG'): 6, Seq('CCGGCAG'): 6, Seq('CCAGCCG'): 6, Seq('GGATCGC'): 6, Seq('CGTCGAA'): 6, Seq('CGTGCGT'): 6, Seq('AGGCTGC'): 6, Seq('GGCGTGC'): 6, Seq('TCCTCGA'): 6, Seq('CGCAACG'): 5, Seq('GCCAGTT'): 5, Seq('TGACGCT'): 5, Seq('ACGCCGG'): 5, Seq('GGCGTCC'): 5, Seq('TGCGGTG'): 5, Seq('GGTGAAG'): 5, Seq('GGCAACG'): 5, Seq('CGGTGGC'): 5, Seq('TCCGCGT'): 5, Seq('GGTCACG'): 5, Seq('GGCGACA'): 5, Seq('TTGAGCG'): 5, Seq('CGACGCA'): 5, Seq('GCGGCAT'): 5, Seq('AGCCCGT'): 5, Seq('GGCCGGT'): 5, Seq('ATCGCCC'): 5, Seq('CGTGCGA'): 5, Seq('CTTGTCG'): 5, Seq('TGTTCTG'): 5, Seq('CCCGCGG'): 5, Seq('GGCCTTC'): 5, Seq('GCCTGGT'): 5, Seq('CGCGGTT'): 5, Seq('GCGGTTC'): 5, Seq('GGGCGAC'): 5, Seq('ATGTCGA'): 5, Seq('GGCCGAA'): 5, Seq('TGCCGAA'): 5, Seq('CGAACAT'): 5, Seq('CAGCCCC'): 5, Seq('CGTCGAT'): 5, Seq('GGGCCGT'): 5, Seq('CGAATCC'): 5, Seq('CAGCATC'): 5, Seq('GCGAATC'): 5, Seq('CAGGCTG'): 5, Seq('GAGCGGC'): 5, Seq('GTCTCGA'): 5, Seq('GCGGATG'): 5, Seq('CCGTTGC'): 5, Seq('GTTGCAG'): 4, Seq('TTTCGGC'): 4, Seq('AGCCAGT'): 4, Seq('CAGTTCC'): 4, Seq('CGCTGAC'): 4, Seq('GCTGACC'): 4, Seq('TCGACAA'): 4, Seq('CGACAAC'): 4, Seq('CGTCCAG'): 4, Seq('TCCAGGT'): 4, Seq('CGACGTT'): 4, Seq('GACGTTC'): 4, Seq('CGGCGGA'): 4, Seq('GCGGCCT'): 4, Seq('GGCTTCG'): 4, Seq('CCGGTGG'): 4, Seq('CGGACGT'): 4, Seq('GTGCGGA'): 4, Seq('TGCGGAT'): 4, Seq('CTGCGGG'): 4, Seq('CGGGCCA'): 4, Seq('TTGACCT'): 4, Seq('CGGTCAC'): 4, Seq('GCGACAT'): 4, Seq('GTCACGT'): 4, Seq('ACGCGGG'): 4, Seq('TCGAGGC'): 4, Seq('GCGAGAA'): 4, Seq('GCATCAT'): 4, Seq('GCAACGC'): 4, Seq('TGCCGAG'): 4, Seq('CCGAGCA'): 4, Seq('CACGTGC'): 4, Seq('TAGTCGA'): 4, Seq('AGTCGAA'): 4, Seq('CTGGATG'): 4, Seq('AGATCGT'): 4, Seq('CTCGAAG'): 4, Seq('GTTCTGC'): 4, Seq('TACGCGG'): 4, Seq('GGCGGAC'): 4, Seq('AGCGTCA'): 4, Seq('CGCTGAA'): 4, Seq('GAACTTG'): 4, Seq('CGTCGCT'): 4, Seq('GTCGCTC'): 4, Seq('CCTTCAG'): 4, Seq('GCGGAGA'): 4, Seq('AAGCCGG'): 4, Seq('AATCGGC'): 4, Seq('AGTTGCC'): 4, Seq('ACTGGCG'): 4, Seq('TGGCGGC'): 4, Seq('TCAGCCC'): 4, Seq('GACCATC'): 4, Seq('TTGCTCG'): 4, Seq('CACGGTG'): 4, Seq('CTTCATC'): 4, Seq('AGCACCG'): 4, Seq('TGCAGCA'): 4, Seq('AACGCCT'): 4, Seq('ACGCCTC'): 4, Seq('CGATGAT'): 4, Seq('CGCGAAT'): 4, Seq('GTCGAAC'): 4, Seq('CGGCAGG'): 4, Seq('GGTTGTC'): 4, Seq('TCGTCCA'): 4, Seq('AGCCGGT'): 4, Seq('CCGAAGC'): 4, Seq('CAGGCGG'): 4, Seq('GGCGGGA'): 4, Seq('GGATGCC'): 4, Seq('CCTTCGA'): 4, Seq('GGCCATG'): 4, Seq('GCCATGA'): 4, Seq('ATCGGCC'): 4, Seq('CCAGATC'): 4, Seq('GAGCAGG'): 4, Seq('AGCAGGC'): 4, Seq('CGATGTC'): 4, Seq('ATAGCCG'): 4, Seq('CCCAGTA'): 4, Seq('TTCCTCG'): 4, Seq('CCACGGC'): 4, Seq('GTGTGGG'): 3, Seq('TGTGGGG'): 3, Seq('CCAGTTC'): 3, Seq('CCGGCTC'): 3, Seq('TACGTCG'): 3, Seq('TGTCGTT'): 3, Seq('GTTCCGC'): 3, Seq('ACCAGCA'): 3, Seq('CGGCCTT'): 3, Seq('GTTGCGG'): 3, Seq('GGTACGC'): 3, Seq('CGCCCTG'): 3, Seq('GGTTCGC'): 3, Seq('TACTGGC'): 3, Seq('TAGACGC'): 3, Seq('TTGACGC'): 3, Seq('GTCGTAC'): 3, Seq('CCAGTTG'): 3, Seq('GGTGCGG'): 3, Seq('GTGCAGC'): 3, Seq('GTGCGTC'): 3, Seq('CGTTGCA'): 2, Seq('CGTGTGG'): 2, Seq('GGCGCCA'): 2, Seq('GCGCCAA'): 2, Seq('TATGCGG'): 2, Seq('GCGGTCT'): 2, Seq('TCGGCTC'): 2, Seq('TCCGACG'): 2, Seq('GACCGTG'): 2, Seq('TCAGTTC'): 2, Seq('CTACGTC'): 2, Seq('CGCCAGT'): 2, Seq('ATTTCGT'): 2, Seq('GCGAACA'): 2, Seq('CGTGGGG'): 2, Seq('TGGGGCT'): 2, Seq('GGGGCTT'): 2, Seq('GCTTGCC'): 2, Seq('GGGCGGT'): 2, Seq('AACCGCG'): 2, Seq('CCAGGTG'): 2, Seq('AATGCGG'): 2, Seq('CGGTGAA'): 2, Seq('GAAGTAC'): 2, Seq('ACGTGAG'): 2, Seq('CGGATTG'): 2, Seq('GCAACGT'): 2, Seq('CCCGGCA'): 2, Seq('GCTGTCC'): 2, Seq('ACGATGT'): 2, Seq('CGCAATT'): 2, Seq('ATTTCTC'): 2, Seq('GCAGGCT'): 2, Seq('TCTTCGG'): 2, Seq('CATGGTG'): 2, Seq('ATGGTGT'): 2, Seq('TGGTGTC'): 2, Seq('GACCTAT'): 2, Seq('ACCTATG'): 2, Seq('GCGGTCA'): 2, Seq('AGCTCGG'): 2, Seq('CCAGTAC'): 2, Seq('AGTACCA'): 2, Seq('GTACCAG'): 2, Seq('CCAGCAG'): 2, Seq('ACGTTGA'): 2, Seq('TATTCGC'): 2, Seq('TGTCGAA'): 2, Seq('ACGACAG'): 2, Seq('TGCGTAT'): 2, Seq('GTATGGC'): 2, Seq('GGGGCGG'): 2, Seq('TCCGGCT'): 2, Seq('GGTCCGG'): 2, Seq('GCCCGTG'): 2, Seq('TTTTCCG'): 2, Seq('TCCGCCG'): 2, Seq('AGAACCG'): 2, Seq('GAACCGA'): 2, Seq('CAACGCC'): 2, Seq('AGCTGGT'): 2, Seq('GCTGGTT'): 2, Seq('CTGGTTG'): 2, Seq('AGCACGT'): 2, Seq('CGTAGTC'): 2, Seq('GTAGTCG'): 2, Seq('CCGGTTG'): 2, Seq('CTGGTAC'): 2, Seq('GCGCCCT'): 2, Seq('TGTACGT'): 2, Seq('TCGAGGT'): 2, Seq('GATCGTA'): 2, Seq('ATCGTAG'): 2, Seq('CGAGCAT'): 2, Seq('AGCATCA'): 2, Seq('CTGGTGC'): 2, Seq('TGGTGCC'): 2, Seq('GGTGCCA'): 2, Seq('GTGCCAG'): 2, Seq('TATAGGC'): 2, Seq('ATAGGCG'): 2, Seq('GAGCCAG'): 2, Seq('GAAGAAA'): 2, Seq('CGTTGAC'): 2, Seq('CCTCGAA'): 2, Seq('TCGAAGT'): 2, Seq('GAATTTC'): 2, Seq('TTCCACG'): 2, Seq('TCCACGC'): 2, Seq('CTGGTTC'): 2, Seq('TGGTTCG'): 2, Seq('GGCCGCT'): 2, Seq('CCGTTGT'): 2, Seq('TGGCCTT'): 2, Seq('GCCTTCA'): 2, Seq('AGGTACG'): 2, Seq('GGCGGAG'): 2, Seq('CCCGCCT'): 2, Seq('AGACGCG'): 2, Seq('CGGTTCC'): 2, Seq('GGTTCCG'): 2, Seq('GAAGCCC'): 2, Seq('AGCCCCC'): 2, Seq('CCTGGTT'): 2, Seq('TCGCCCT'): 2, Seq('GCCCTTG'): 2, Seq('TTGAAGC'): 2, Seq('GGAGGGC'): 2, Seq('GAGGGCG'): 2, Seq('ACACGTA'): 2, Seq('CGGGTGC'): 2, Seq('AGCGTGG'): 2, Seq('GTACTGG'): 2, Seq('AACCGGT'): 2, Seq('GAATCGA'): 2, Seq('AATCGAG'): 2, Seq('ATCGAGG'): 2, Seq('AGGCCGA'): 2, Seq('ATCCGCG'): 2, Seq('AGCCGTT'): 2, Seq('CGCTCTG'): 2, Seq('ATCCCGC'): 2, Seq('AGATCCT'): 2, Seq('TCCTCGG'): 2, Seq('TTTCAGC'): 2, Seq('CCATCTG'): 2, Seq('TCTGGTA'): 2, Seq('GTACAGC'): 2, Seq('TACAGCG'): 2, Seq('GTCACGG'): 2, Seq('TCACGGT'): 2, Seq('GCTTTGC'): 2, Seq('GTCAGGC'): 2, Seq('CGATACG'): 2, Seq('TTACGAA'): 2, Seq('TACGAAG'): 2, Seq('CGAAGAA'): 2, Seq('TACAGCA'): 2, Seq('TCGTTTT'): 2, Seq('TTGCGGT'): 2, Seq('GAAGAAC'): 2, Seq('ACGTATA'): 2, Seq('CGTATAG'): 2, Seq('TGAAACG'): 2, Seq('TCGAACC'): 2, Seq('CAATGGT'): 2, Seq('AATGGTC'): 2, Seq('TCGGGTA'): 2, Seq('TCAGCGG'): 2, Seq('GTAATGG'): 2, Seq('AATGGCC'): 2, Seq('CACCAGC'): 2, Seq('GGTAGTA'): 2, Seq('GTAGTAC'): 2, Seq('TCCACAG'): 2, Seq('GACCCAG'): 2, Seq('ACCCAGT'): 2, Seq('GCAGCAA'): 2, Seq('GCAATGG'): 2, Seq('TGTCTTC'): 2, Seq('GTCTTCC'): 2, Seq('TCTTCCT'): 2, Seq('ATTGCGA'): 2, Seq('ACAGGCG'): 2, Seq('AAGCCCG'): 2, Seq('AAGTCGG'): 2, Seq('AGTCGGC'): 2, Seq('ACCACCT'): 2, Seq('CCCGCAC'): 2, Seq('TCGGCCT'): 2, Seq('CGGATGG'): 2, Seq('TAGCCGT'): 2, Seq('TGACCAC'): 2, Seq('GCGCCAT'): 2, Seq('CACGTAG'): 2, Seq('CGCACAG'): 2, Seq('GCACAGG'): 2, Seq('CAGGATG'): 2, Seq('CGCCCCA'): 2, Seq('CGTTGCG'): 2, Seq('ATCGTTT'): 2, Seq('TTTCCTC'): 2, Seq('GTAGACG'): 2, Seq('CGCTTTT'): 2, Seq('GTCTCTC'): 2}\n"
          ]
        }
      ]
    }
  ]
}